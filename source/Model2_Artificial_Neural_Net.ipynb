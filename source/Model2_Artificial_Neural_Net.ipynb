{
 "cells": [
  {
   "cell_type": "code",
   "execution_count": 1,
   "metadata": {},
   "outputs": [],
   "source": [
    "import seaborn as sns\n",
    "import numpy as np\n",
    "import pandas as pd\n",
    "import matplotlib.pyplot as plt"
   ]
  },
  {
   "cell_type": "code",
   "execution_count": 2,
   "metadata": {},
   "outputs": [
    {
     "data": {
      "text/html": [
       "<div>\n",
       "<style scoped>\n",
       "    .dataframe tbody tr th:only-of-type {\n",
       "        vertical-align: middle;\n",
       "    }\n",
       "\n",
       "    .dataframe tbody tr th {\n",
       "        vertical-align: top;\n",
       "    }\n",
       "\n",
       "    .dataframe thead th {\n",
       "        text-align: right;\n",
       "    }\n",
       "</style>\n",
       "<table border=\"1\" class=\"dataframe\">\n",
       "  <thead>\n",
       "    <tr style=\"text-align: right;\">\n",
       "      <th></th>\n",
       "      <th>a</th>\n",
       "      <th>e</th>\n",
       "      <th>i</th>\n",
       "      <th>om</th>\n",
       "      <th>w</th>\n",
       "      <th>q</th>\n",
       "      <th>ad</th>\n",
       "      <th>per_y</th>\n",
       "      <th>H</th>\n",
       "      <th>pha</th>\n",
       "      <th>diameter</th>\n",
       "      <th>albedo</th>\n",
       "      <th>rot_per</th>\n",
       "      <th>GM</th>\n",
       "      <th>BV</th>\n",
       "      <th>UB</th>\n",
       "      <th>moid</th>\n",
       "      <th>n</th>\n",
       "      <th>per</th>\n",
       "      <th>ma</th>\n",
       "    </tr>\n",
       "  </thead>\n",
       "  <tbody>\n",
       "    <tr>\n",
       "      <th>0</th>\n",
       "      <td>0.354908</td>\n",
       "      <td>0.213852</td>\n",
       "      <td>0.083238</td>\n",
       "      <td>0.393319</td>\n",
       "      <td>0.996385</td>\n",
       "      <td>0.379566</td>\n",
       "      <td>0.229142</td>\n",
       "      <td>0.259400</td>\n",
       "      <td>0.091219</td>\n",
       "      <td>0.0</td>\n",
       "      <td>0.533248</td>\n",
       "      <td>0.270352</td>\n",
       "      <td>0.010200</td>\n",
       "      <td>NaN</td>\n",
       "      <td>0.494970</td>\n",
       "      <td>0.543925</td>\n",
       "      <td>0.256055</td>\n",
       "      <td>0.136087</td>\n",
       "      <td>0.259400</td>\n",
       "      <td>0.784363</td>\n",
       "    </tr>\n",
       "    <tr>\n",
       "      <th>1</th>\n",
       "      <td>0.324537</td>\n",
       "      <td>0.227253</td>\n",
       "      <td>0.229741</td>\n",
       "      <td>0.385161</td>\n",
       "      <td>0.666141</td>\n",
       "      <td>0.350354</td>\n",
       "      <td>0.211422</td>\n",
       "      <td>0.232195</td>\n",
       "      <td>0.013615</td>\n",
       "      <td>0.0</td>\n",
       "      <td>0.926577</td>\n",
       "      <td>0.264221</td>\n",
       "      <td>0.004392</td>\n",
       "      <td>NaN</td>\n",
       "      <td>0.486922</td>\n",
       "      <td>0.521495</td>\n",
       "      <td>0.227563</td>\n",
       "      <td>0.154294</td>\n",
       "      <td>0.232195</td>\n",
       "      <td>0.239430</td>\n",
       "    </tr>\n",
       "    <tr>\n",
       "      <th>2</th>\n",
       "      <td>0.316424</td>\n",
       "      <td>0.258977</td>\n",
       "      <td>0.085688</td>\n",
       "      <td>0.721104</td>\n",
       "      <td>0.403507</td>\n",
       "      <td>0.331006</td>\n",
       "      <td>0.213728</td>\n",
       "      <td>0.225067</td>\n",
       "      <td>0.000000</td>\n",
       "      <td>0.0</td>\n",
       "      <td>1.000000</td>\n",
       "      <td>0.272965</td>\n",
       "      <td>0.004309</td>\n",
       "      <td>NaN</td>\n",
       "      <td>0.553320</td>\n",
       "      <td>0.680374</td>\n",
       "      <td>0.197683</td>\n",
       "      <td>0.159643</td>\n",
       "      <td>0.225067</td>\n",
       "      <td>0.390052</td>\n",
       "    </tr>\n",
       "    <tr>\n",
       "      <th>3</th>\n",
       "      <td>0.279029</td>\n",
       "      <td>0.174932</td>\n",
       "      <td>0.091367</td>\n",
       "      <td>0.308065</td>\n",
       "      <td>0.792483</td>\n",
       "      <td>0.335571</td>\n",
       "      <td>0.167190</td>\n",
       "      <td>0.192983</td>\n",
       "      <td>0.066712</td>\n",
       "      <td>0.0</td>\n",
       "      <td>0.737689</td>\n",
       "      <td>0.222111</td>\n",
       "      <td>0.007799</td>\n",
       "      <td>NaN</td>\n",
       "      <td>0.613682</td>\n",
       "      <td>0.689720</td>\n",
       "      <td>0.204244</td>\n",
       "      <td>0.187472</td>\n",
       "      <td>0.192983</td>\n",
       "      <td>0.541344</td>\n",
       "    </tr>\n",
       "    <tr>\n",
       "      <th>4</th>\n",
       "      <td>0.316486</td>\n",
       "      <td>0.137375</td>\n",
       "      <td>0.086519</td>\n",
       "      <td>0.191436</td>\n",
       "      <td>0.017794</td>\n",
       "      <td>0.381443</td>\n",
       "      <td>0.183041</td>\n",
       "      <td>0.225121</td>\n",
       "      <td>0.052417</td>\n",
       "      <td>0.0</td>\n",
       "      <td>0.950734</td>\n",
       "      <td>0.113568</td>\n",
       "      <td>0.003054</td>\n",
       "      <td>NaN</td>\n",
       "      <td>0.559356</td>\n",
       "      <td>0.702804</td>\n",
       "      <td>0.258631</td>\n",
       "      <td>0.159601</td>\n",
       "      <td>0.225121</td>\n",
       "      <td>0.769072</td>\n",
       "    </tr>\n",
       "    <tr>\n",
       "      <th>...</th>\n",
       "      <td>...</td>\n",
       "      <td>...</td>\n",
       "      <td>...</td>\n",
       "      <td>...</td>\n",
       "      <td>...</td>\n",
       "      <td>...</td>\n",
       "      <td>...</td>\n",
       "      <td>...</td>\n",
       "      <td>...</td>\n",
       "      <td>...</td>\n",
       "      <td>...</td>\n",
       "      <td>...</td>\n",
       "      <td>...</td>\n",
       "      <td>...</td>\n",
       "      <td>...</td>\n",
       "      <td>...</td>\n",
       "      <td>...</td>\n",
       "      <td>...</td>\n",
       "      <td>...</td>\n",
       "      <td>...</td>\n",
       "    </tr>\n",
       "    <tr>\n",
       "      <th>24363</th>\n",
       "      <td>0.308267</td>\n",
       "      <td>0.116138</td>\n",
       "      <td>0.063671</td>\n",
       "      <td>0.716155</td>\n",
       "      <td>0.952911</td>\n",
       "      <td>0.383182</td>\n",
       "      <td>0.172365</td>\n",
       "      <td>0.217959</td>\n",
       "      <td>0.693669</td>\n",
       "      <td>0.0</td>\n",
       "      <td>0.008184</td>\n",
       "      <td>0.355779</td>\n",
       "      <td>NaN</td>\n",
       "      <td>NaN</td>\n",
       "      <td>NaN</td>\n",
       "      <td>NaN</td>\n",
       "      <td>0.254284</td>\n",
       "      <td>0.165251</td>\n",
       "      <td>0.217959</td>\n",
       "      <td>0.477225</td>\n",
       "    </tr>\n",
       "    <tr>\n",
       "      <th>24364</th>\n",
       "      <td>0.313748</td>\n",
       "      <td>0.167089</td>\n",
       "      <td>0.065494</td>\n",
       "      <td>0.034126</td>\n",
       "      <td>0.549054</td>\n",
       "      <td>0.366897</td>\n",
       "      <td>0.188709</td>\n",
       "      <td>0.222728</td>\n",
       "      <td>0.714091</td>\n",
       "      <td>0.0</td>\n",
       "      <td>0.006280</td>\n",
       "      <td>0.418090</td>\n",
       "      <td>NaN</td>\n",
       "      <td>NaN</td>\n",
       "      <td>NaN</td>\n",
       "      <td>NaN</td>\n",
       "      <td>0.236695</td>\n",
       "      <td>0.161456</td>\n",
       "      <td>0.222728</td>\n",
       "      <td>0.370383</td>\n",
       "    </tr>\n",
       "    <tr>\n",
       "      <th>24365</th>\n",
       "      <td>0.376055</td>\n",
       "      <td>0.259840</td>\n",
       "      <td>0.161207</td>\n",
       "      <td>0.826406</td>\n",
       "      <td>0.196702</td>\n",
       "      <td>0.374582</td>\n",
       "      <td>0.256923</td>\n",
       "      <td>0.278815</td>\n",
       "      <td>0.618788</td>\n",
       "      <td>0.0</td>\n",
       "      <td>0.037268</td>\n",
       "      <td>0.038191</td>\n",
       "      <td>NaN</td>\n",
       "      <td>NaN</td>\n",
       "      <td>NaN</td>\n",
       "      <td>NaN</td>\n",
       "      <td>0.252686</td>\n",
       "      <td>0.124890</td>\n",
       "      <td>0.278815</td>\n",
       "      <td>0.165555</td>\n",
       "    </tr>\n",
       "    <tr>\n",
       "      <th>24366</th>\n",
       "      <td>0.364056</td>\n",
       "      <td>0.313769</td>\n",
       "      <td>0.090133</td>\n",
       "      <td>0.169786</td>\n",
       "      <td>0.754505</td>\n",
       "      <td>0.341206</td>\n",
       "      <td>0.263239</td>\n",
       "      <td>0.267752</td>\n",
       "      <td>0.625596</td>\n",
       "      <td>0.0</td>\n",
       "      <td>0.014599</td>\n",
       "      <td>0.267337</td>\n",
       "      <td>NaN</td>\n",
       "      <td>NaN</td>\n",
       "      <td>NaN</td>\n",
       "      <td>NaN</td>\n",
       "      <td>0.206996</td>\n",
       "      <td>0.131107</td>\n",
       "      <td>0.267752</td>\n",
       "      <td>0.399286</td>\n",
       "    </tr>\n",
       "    <tr>\n",
       "      <th>24367</th>\n",
       "      <td>0.295544</td>\n",
       "      <td>0.293079</td>\n",
       "      <td>0.064836</td>\n",
       "      <td>0.665953</td>\n",
       "      <td>0.266768</td>\n",
       "      <td>0.302085</td>\n",
       "      <td>0.206935</td>\n",
       "      <td>0.206994</td>\n",
       "      <td>0.652825</td>\n",
       "      <td>0.0</td>\n",
       "      <td>0.008826</td>\n",
       "      <td>0.244221</td>\n",
       "      <td>NaN</td>\n",
       "      <td>NaN</td>\n",
       "      <td>NaN</td>\n",
       "      <td>NaN</td>\n",
       "      <td>0.159324</td>\n",
       "      <td>0.174491</td>\n",
       "      <td>0.206994</td>\n",
       "      <td>0.360611</td>\n",
       "    </tr>\n",
       "  </tbody>\n",
       "</table>\n",
       "<p>24368 rows × 20 columns</p>\n",
       "</div>"
      ],
      "text/plain": [
       "              a         e         i        om         w         q        ad  \\\n",
       "0      0.354908  0.213852  0.083238  0.393319  0.996385  0.379566  0.229142   \n",
       "1      0.324537  0.227253  0.229741  0.385161  0.666141  0.350354  0.211422   \n",
       "2      0.316424  0.258977  0.085688  0.721104  0.403507  0.331006  0.213728   \n",
       "3      0.279029  0.174932  0.091367  0.308065  0.792483  0.335571  0.167190   \n",
       "4      0.316486  0.137375  0.086519  0.191436  0.017794  0.381443  0.183041   \n",
       "...         ...       ...       ...       ...       ...       ...       ...   \n",
       "24363  0.308267  0.116138  0.063671  0.716155  0.952911  0.383182  0.172365   \n",
       "24364  0.313748  0.167089  0.065494  0.034126  0.549054  0.366897  0.188709   \n",
       "24365  0.376055  0.259840  0.161207  0.826406  0.196702  0.374582  0.256923   \n",
       "24366  0.364056  0.313769  0.090133  0.169786  0.754505  0.341206  0.263239   \n",
       "24367  0.295544  0.293079  0.064836  0.665953  0.266768  0.302085  0.206935   \n",
       "\n",
       "          per_y         H  pha  diameter    albedo   rot_per  GM        BV  \\\n",
       "0      0.259400  0.091219  0.0  0.533248  0.270352  0.010200 NaN  0.494970   \n",
       "1      0.232195  0.013615  0.0  0.926577  0.264221  0.004392 NaN  0.486922   \n",
       "2      0.225067  0.000000  0.0  1.000000  0.272965  0.004309 NaN  0.553320   \n",
       "3      0.192983  0.066712  0.0  0.737689  0.222111  0.007799 NaN  0.613682   \n",
       "4      0.225121  0.052417  0.0  0.950734  0.113568  0.003054 NaN  0.559356   \n",
       "...         ...       ...  ...       ...       ...       ...  ..       ...   \n",
       "24363  0.217959  0.693669  0.0  0.008184  0.355779       NaN NaN       NaN   \n",
       "24364  0.222728  0.714091  0.0  0.006280  0.418090       NaN NaN       NaN   \n",
       "24365  0.278815  0.618788  0.0  0.037268  0.038191       NaN NaN       NaN   \n",
       "24366  0.267752  0.625596  0.0  0.014599  0.267337       NaN NaN       NaN   \n",
       "24367  0.206994  0.652825  0.0  0.008826  0.244221       NaN NaN       NaN   \n",
       "\n",
       "             UB      moid         n       per        ma  \n",
       "0      0.543925  0.256055  0.136087  0.259400  0.784363  \n",
       "1      0.521495  0.227563  0.154294  0.232195  0.239430  \n",
       "2      0.680374  0.197683  0.159643  0.225067  0.390052  \n",
       "3      0.689720  0.204244  0.187472  0.192983  0.541344  \n",
       "4      0.702804  0.258631  0.159601  0.225121  0.769072  \n",
       "...         ...       ...       ...       ...       ...  \n",
       "24363       NaN  0.254284  0.165251  0.217959  0.477225  \n",
       "24364       NaN  0.236695  0.161456  0.222728  0.370383  \n",
       "24365       NaN  0.252686  0.124890  0.278815  0.165555  \n",
       "24366       NaN  0.206996  0.131107  0.267752  0.399286  \n",
       "24367       NaN  0.159324  0.174491  0.206994  0.360611  \n",
       "\n",
       "[24368 rows x 20 columns]"
      ]
     },
     "execution_count": 2,
     "metadata": {},
     "output_type": "execute_result"
    }
   ],
   "source": [
    "data = pd.read_csv('../data/Asteroid_Normalized.csv')\n",
    "data"
   ]
  },
  {
   "cell_type": "code",
   "execution_count": 89,
   "metadata": {},
   "outputs": [
    {
     "data": {
      "text/html": [
       "<div>\n",
       "<style scoped>\n",
       "    .dataframe tbody tr th:only-of-type {\n",
       "        vertical-align: middle;\n",
       "    }\n",
       "\n",
       "    .dataframe tbody tr th {\n",
       "        vertical-align: top;\n",
       "    }\n",
       "\n",
       "    .dataframe thead th {\n",
       "        text-align: right;\n",
       "    }\n",
       "</style>\n",
       "<table border=\"1\" class=\"dataframe\">\n",
       "  <thead>\n",
       "    <tr style=\"text-align: right;\">\n",
       "      <th></th>\n",
       "      <th>q</th>\n",
       "      <th>H</th>\n",
       "      <th>diameter</th>\n",
       "      <th>a</th>\n",
       "      <th>i</th>\n",
       "      <th>ad</th>\n",
       "      <th>n</th>\n",
       "      <th>per</th>\n",
       "    </tr>\n",
       "  </thead>\n",
       "  <tbody>\n",
       "    <tr>\n",
       "      <th>0</th>\n",
       "      <td>0.379566</td>\n",
       "      <td>0.091219</td>\n",
       "      <td>0.533248</td>\n",
       "      <td>0.354908</td>\n",
       "      <td>0.083238</td>\n",
       "      <td>0.229142</td>\n",
       "      <td>0.136087</td>\n",
       "      <td>0.259400</td>\n",
       "    </tr>\n",
       "    <tr>\n",
       "      <th>1</th>\n",
       "      <td>0.350354</td>\n",
       "      <td>0.013615</td>\n",
       "      <td>0.926577</td>\n",
       "      <td>0.324537</td>\n",
       "      <td>0.229741</td>\n",
       "      <td>0.211422</td>\n",
       "      <td>0.154294</td>\n",
       "      <td>0.232195</td>\n",
       "    </tr>\n",
       "    <tr>\n",
       "      <th>2</th>\n",
       "      <td>0.331006</td>\n",
       "      <td>0.000000</td>\n",
       "      <td>1.000000</td>\n",
       "      <td>0.316424</td>\n",
       "      <td>0.085688</td>\n",
       "      <td>0.213728</td>\n",
       "      <td>0.159643</td>\n",
       "      <td>0.225067</td>\n",
       "    </tr>\n",
       "    <tr>\n",
       "      <th>3</th>\n",
       "      <td>0.335571</td>\n",
       "      <td>0.066712</td>\n",
       "      <td>0.737689</td>\n",
       "      <td>0.279029</td>\n",
       "      <td>0.091367</td>\n",
       "      <td>0.167190</td>\n",
       "      <td>0.187472</td>\n",
       "      <td>0.192983</td>\n",
       "    </tr>\n",
       "    <tr>\n",
       "      <th>4</th>\n",
       "      <td>0.381443</td>\n",
       "      <td>0.052417</td>\n",
       "      <td>0.950734</td>\n",
       "      <td>0.316486</td>\n",
       "      <td>0.086519</td>\n",
       "      <td>0.183041</td>\n",
       "      <td>0.159601</td>\n",
       "      <td>0.225121</td>\n",
       "    </tr>\n",
       "    <tr>\n",
       "      <th>...</th>\n",
       "      <td>...</td>\n",
       "      <td>...</td>\n",
       "      <td>...</td>\n",
       "      <td>...</td>\n",
       "      <td>...</td>\n",
       "      <td>...</td>\n",
       "      <td>...</td>\n",
       "      <td>...</td>\n",
       "    </tr>\n",
       "    <tr>\n",
       "      <th>24363</th>\n",
       "      <td>0.383182</td>\n",
       "      <td>0.693669</td>\n",
       "      <td>0.008184</td>\n",
       "      <td>0.308267</td>\n",
       "      <td>0.063671</td>\n",
       "      <td>0.172365</td>\n",
       "      <td>0.165251</td>\n",
       "      <td>0.217959</td>\n",
       "    </tr>\n",
       "    <tr>\n",
       "      <th>24364</th>\n",
       "      <td>0.366897</td>\n",
       "      <td>0.714091</td>\n",
       "      <td>0.006280</td>\n",
       "      <td>0.313748</td>\n",
       "      <td>0.065494</td>\n",
       "      <td>0.188709</td>\n",
       "      <td>0.161456</td>\n",
       "      <td>0.222728</td>\n",
       "    </tr>\n",
       "    <tr>\n",
       "      <th>24365</th>\n",
       "      <td>0.374582</td>\n",
       "      <td>0.618788</td>\n",
       "      <td>0.037268</td>\n",
       "      <td>0.376055</td>\n",
       "      <td>0.161207</td>\n",
       "      <td>0.256923</td>\n",
       "      <td>0.124890</td>\n",
       "      <td>0.278815</td>\n",
       "    </tr>\n",
       "    <tr>\n",
       "      <th>24366</th>\n",
       "      <td>0.341206</td>\n",
       "      <td>0.625596</td>\n",
       "      <td>0.014599</td>\n",
       "      <td>0.364056</td>\n",
       "      <td>0.090133</td>\n",
       "      <td>0.263239</td>\n",
       "      <td>0.131107</td>\n",
       "      <td>0.267752</td>\n",
       "    </tr>\n",
       "    <tr>\n",
       "      <th>24367</th>\n",
       "      <td>0.302085</td>\n",
       "      <td>0.652825</td>\n",
       "      <td>0.008826</td>\n",
       "      <td>0.295544</td>\n",
       "      <td>0.064836</td>\n",
       "      <td>0.206935</td>\n",
       "      <td>0.174491</td>\n",
       "      <td>0.206994</td>\n",
       "    </tr>\n",
       "  </tbody>\n",
       "</table>\n",
       "<p>24368 rows × 8 columns</p>\n",
       "</div>"
      ],
      "text/plain": [
       "              q         H  diameter         a         i        ad         n  \\\n",
       "0      0.379566  0.091219  0.533248  0.354908  0.083238  0.229142  0.136087   \n",
       "1      0.350354  0.013615  0.926577  0.324537  0.229741  0.211422  0.154294   \n",
       "2      0.331006  0.000000  1.000000  0.316424  0.085688  0.213728  0.159643   \n",
       "3      0.335571  0.066712  0.737689  0.279029  0.091367  0.167190  0.187472   \n",
       "4      0.381443  0.052417  0.950734  0.316486  0.086519  0.183041  0.159601   \n",
       "...         ...       ...       ...       ...       ...       ...       ...   \n",
       "24363  0.383182  0.693669  0.008184  0.308267  0.063671  0.172365  0.165251   \n",
       "24364  0.366897  0.714091  0.006280  0.313748  0.065494  0.188709  0.161456   \n",
       "24365  0.374582  0.618788  0.037268  0.376055  0.161207  0.256923  0.124890   \n",
       "24366  0.341206  0.625596  0.014599  0.364056  0.090133  0.263239  0.131107   \n",
       "24367  0.302085  0.652825  0.008826  0.295544  0.064836  0.206935  0.174491   \n",
       "\n",
       "            per  \n",
       "0      0.259400  \n",
       "1      0.232195  \n",
       "2      0.225067  \n",
       "3      0.192983  \n",
       "4      0.225121  \n",
       "...         ...  \n",
       "24363  0.217959  \n",
       "24364  0.222728  \n",
       "24365  0.278815  \n",
       "24366  0.267752  \n",
       "24367  0.206994  \n",
       "\n",
       "[24368 rows x 8 columns]"
      ]
     },
     "execution_count": 89,
     "metadata": {},
     "output_type": "execute_result"
    }
   ],
   "source": [
    "sel_data1 = data[['q', 'H', 'diameter', 'a', 'i', 'ad', 'n', 'per']]\n",
    "sel_data1 = sel_data1.dropna()\n",
    "\n",
    "sel_data1"
   ]
  },
  {
   "cell_type": "code",
   "execution_count": 4,
   "metadata": {},
   "outputs": [
    {
     "name": "stderr",
     "output_type": "stream",
     "text": [
      "2024-07-22 16:36:49.476729: I tensorflow/core/platform/cpu_feature_guard.cc:210] This TensorFlow binary is optimized to use available CPU instructions in performance-critical operations.\n",
      "To enable the following instructions: AVX2 FMA, in other operations, rebuild TensorFlow with the appropriate compiler flags.\n"
     ]
    }
   ],
   "source": [
    "from keras.models import Sequential\n",
    "from keras.layers import Dense"
   ]
  },
  {
   "cell_type": "code",
   "execution_count": 90,
   "metadata": {},
   "outputs": [],
   "source": [
    "from sklearn.model_selection import train_test_split\n",
    "\n",
    "train_df, test_df = train_test_split(sel_data1, test_size=0.2, random_state=42)\n",
    "\n",
    "X_train = train_df.drop(columns=['diameter'])\n",
    "y_train = train_df['diameter']\n",
    "\n",
    "X_test = test_df.drop(columns=['diameter'])\n",
    "y_test = test_df['diameter']\n"
   ]
  },
  {
   "cell_type": "code",
   "execution_count": 95,
   "metadata": {},
   "outputs": [
    {
     "name": "stderr",
     "output_type": "stream",
     "text": [
      "/Library/Frameworks/Python.framework/Versions/3.10/lib/python3.10/site-packages/keras/src/layers/core/dense.py:87: UserWarning: Do not pass an `input_shape`/`input_dim` argument to a layer. When using Sequential models, prefer using an `Input(shape)` object as the first layer in the model instead.\n",
      "  super().__init__(activity_regularizer=activity_regularizer, **kwargs)\n"
     ]
    }
   ],
   "source": [
    "classifier = Sequential()\n",
    "classifier.add(Dense(units = 16, activation = 'relu', input_dim = X_train.shape[1]))\n",
    "classifier.add(Dense(units = 8, activation = 'relu'))\n",
    "classifier.add(Dense(units = 6, activation = 'relu'))\n",
    "classifier.add(Dense(units = 1, activation = 'relu'))"
   ]
  },
  {
   "cell_type": "code",
   "execution_count": 96,
   "metadata": {},
   "outputs": [],
   "source": [
    "classifier.compile(optimizer = 'adam', loss = 'mean_squared_error')"
   ]
  },
  {
   "cell_type": "code",
   "execution_count": 97,
   "metadata": {},
   "outputs": [
    {
     "data": {
      "text/html": [
       "<pre style=\"white-space:pre;overflow-x:auto;line-height:normal;font-family:Menlo,'DejaVu Sans Mono',consolas,'Courier New',monospace\"><span style=\"font-weight: bold\">Model: \"sequential_2\"</span>\n",
       "</pre>\n"
      ],
      "text/plain": [
       "\u001b[1mModel: \"sequential_2\"\u001b[0m\n"
      ]
     },
     "metadata": {},
     "output_type": "display_data"
    },
    {
     "data": {
      "text/html": [
       "<pre style=\"white-space:pre;overflow-x:auto;line-height:normal;font-family:Menlo,'DejaVu Sans Mono',consolas,'Courier New',monospace\">┏━━━━━━━━━━━━━━━━━━━━━━━━━━━━━━━━━┳━━━━━━━━━━━━━━━━━━━━━━━━┳━━━━━━━━━━━━━━━┓\n",
       "┃<span style=\"font-weight: bold\"> Layer (type)                    </span>┃<span style=\"font-weight: bold\"> Output Shape           </span>┃<span style=\"font-weight: bold\">       Param # </span>┃\n",
       "┡━━━━━━━━━━━━━━━━━━━━━━━━━━━━━━━━━╇━━━━━━━━━━━━━━━━━━━━━━━━╇━━━━━━━━━━━━━━━┩\n",
       "│ dense_7 (<span style=\"color: #0087ff; text-decoration-color: #0087ff\">Dense</span>)                 │ (<span style=\"color: #00d7ff; text-decoration-color: #00d7ff\">None</span>, <span style=\"color: #00af00; text-decoration-color: #00af00\">16</span>)             │           <span style=\"color: #00af00; text-decoration-color: #00af00\">128</span> │\n",
       "├─────────────────────────────────┼────────────────────────┼───────────────┤\n",
       "│ dense_8 (<span style=\"color: #0087ff; text-decoration-color: #0087ff\">Dense</span>)                 │ (<span style=\"color: #00d7ff; text-decoration-color: #00d7ff\">None</span>, <span style=\"color: #00af00; text-decoration-color: #00af00\">8</span>)              │           <span style=\"color: #00af00; text-decoration-color: #00af00\">136</span> │\n",
       "├─────────────────────────────────┼────────────────────────┼───────────────┤\n",
       "│ dense_9 (<span style=\"color: #0087ff; text-decoration-color: #0087ff\">Dense</span>)                 │ (<span style=\"color: #00d7ff; text-decoration-color: #00d7ff\">None</span>, <span style=\"color: #00af00; text-decoration-color: #00af00\">6</span>)              │            <span style=\"color: #00af00; text-decoration-color: #00af00\">54</span> │\n",
       "├─────────────────────────────────┼────────────────────────┼───────────────┤\n",
       "│ dense_10 (<span style=\"color: #0087ff; text-decoration-color: #0087ff\">Dense</span>)                │ (<span style=\"color: #00d7ff; text-decoration-color: #00d7ff\">None</span>, <span style=\"color: #00af00; text-decoration-color: #00af00\">1</span>)              │             <span style=\"color: #00af00; text-decoration-color: #00af00\">7</span> │\n",
       "└─────────────────────────────────┴────────────────────────┴───────────────┘\n",
       "</pre>\n"
      ],
      "text/plain": [
       "┏━━━━━━━━━━━━━━━━━━━━━━━━━━━━━━━━━┳━━━━━━━━━━━━━━━━━━━━━━━━┳━━━━━━━━━━━━━━━┓\n",
       "┃\u001b[1m \u001b[0m\u001b[1mLayer (type)                   \u001b[0m\u001b[1m \u001b[0m┃\u001b[1m \u001b[0m\u001b[1mOutput Shape          \u001b[0m\u001b[1m \u001b[0m┃\u001b[1m \u001b[0m\u001b[1m      Param #\u001b[0m\u001b[1m \u001b[0m┃\n",
       "┡━━━━━━━━━━━━━━━━━━━━━━━━━━━━━━━━━╇━━━━━━━━━━━━━━━━━━━━━━━━╇━━━━━━━━━━━━━━━┩\n",
       "│ dense_7 (\u001b[38;5;33mDense\u001b[0m)                 │ (\u001b[38;5;45mNone\u001b[0m, \u001b[38;5;34m16\u001b[0m)             │           \u001b[38;5;34m128\u001b[0m │\n",
       "├─────────────────────────────────┼────────────────────────┼───────────────┤\n",
       "│ dense_8 (\u001b[38;5;33mDense\u001b[0m)                 │ (\u001b[38;5;45mNone\u001b[0m, \u001b[38;5;34m8\u001b[0m)              │           \u001b[38;5;34m136\u001b[0m │\n",
       "├─────────────────────────────────┼────────────────────────┼───────────────┤\n",
       "│ dense_9 (\u001b[38;5;33mDense\u001b[0m)                 │ (\u001b[38;5;45mNone\u001b[0m, \u001b[38;5;34m6\u001b[0m)              │            \u001b[38;5;34m54\u001b[0m │\n",
       "├─────────────────────────────────┼────────────────────────┼───────────────┤\n",
       "│ dense_10 (\u001b[38;5;33mDense\u001b[0m)                │ (\u001b[38;5;45mNone\u001b[0m, \u001b[38;5;34m1\u001b[0m)              │             \u001b[38;5;34m7\u001b[0m │\n",
       "└─────────────────────────────────┴────────────────────────┴───────────────┘\n"
      ]
     },
     "metadata": {},
     "output_type": "display_data"
    },
    {
     "data": {
      "text/html": [
       "<pre style=\"white-space:pre;overflow-x:auto;line-height:normal;font-family:Menlo,'DejaVu Sans Mono',consolas,'Courier New',monospace\"><span style=\"font-weight: bold\"> Total params: </span><span style=\"color: #00af00; text-decoration-color: #00af00\">325</span> (1.27 KB)\n",
       "</pre>\n"
      ],
      "text/plain": [
       "\u001b[1m Total params: \u001b[0m\u001b[38;5;34m325\u001b[0m (1.27 KB)\n"
      ]
     },
     "metadata": {},
     "output_type": "display_data"
    },
    {
     "data": {
      "text/html": [
       "<pre style=\"white-space:pre;overflow-x:auto;line-height:normal;font-family:Menlo,'DejaVu Sans Mono',consolas,'Courier New',monospace\"><span style=\"font-weight: bold\"> Trainable params: </span><span style=\"color: #00af00; text-decoration-color: #00af00\">325</span> (1.27 KB)\n",
       "</pre>\n"
      ],
      "text/plain": [
       "\u001b[1m Trainable params: \u001b[0m\u001b[38;5;34m325\u001b[0m (1.27 KB)\n"
      ]
     },
     "metadata": {},
     "output_type": "display_data"
    },
    {
     "data": {
      "text/html": [
       "<pre style=\"white-space:pre;overflow-x:auto;line-height:normal;font-family:Menlo,'DejaVu Sans Mono',consolas,'Courier New',monospace\"><span style=\"font-weight: bold\"> Non-trainable params: </span><span style=\"color: #00af00; text-decoration-color: #00af00\">0</span> (0.00 B)\n",
       "</pre>\n"
      ],
      "text/plain": [
       "\u001b[1m Non-trainable params: \u001b[0m\u001b[38;5;34m0\u001b[0m (0.00 B)\n"
      ]
     },
     "metadata": {},
     "output_type": "display_data"
    }
   ],
   "source": [
    "classifier.summary()"
   ]
  },
  {
   "cell_type": "code",
   "execution_count": 168,
   "metadata": {},
   "outputs": [
    {
     "name": "stdout",
     "output_type": "stream",
     "text": [
      "Epoch 1/20\n"
     ]
    },
    {
     "name": "stdout",
     "output_type": "stream",
     "text": [
      "\u001b[1m610/610\u001b[0m \u001b[32m━━━━━━━━━━━━━━━━━━━━\u001b[0m\u001b[37m\u001b[0m \u001b[1m1s\u001b[0m 1ms/step - loss: 7.7804e-04\n",
      "Epoch 2/20\n",
      "\u001b[1m610/610\u001b[0m \u001b[32m━━━━━━━━━━━━━━━━━━━━\u001b[0m\u001b[37m\u001b[0m \u001b[1m1s\u001b[0m 1ms/step - loss: 7.4690e-04\n",
      "Epoch 3/20\n",
      "\u001b[1m610/610\u001b[0m \u001b[32m━━━━━━━━━━━━━━━━━━━━\u001b[0m\u001b[37m\u001b[0m \u001b[1m1s\u001b[0m 1ms/step - loss: 7.5541e-04\n",
      "Epoch 4/20\n",
      "\u001b[1m610/610\u001b[0m \u001b[32m━━━━━━━━━━━━━━━━━━━━\u001b[0m\u001b[37m\u001b[0m \u001b[1m1s\u001b[0m 1ms/step - loss: 7.7328e-04\n",
      "Epoch 5/20\n",
      "\u001b[1m610/610\u001b[0m \u001b[32m━━━━━━━━━━━━━━━━━━━━\u001b[0m\u001b[37m\u001b[0m \u001b[1m1s\u001b[0m 1ms/step - loss: 7.6687e-04\n",
      "Epoch 6/20\n",
      "\u001b[1m610/610\u001b[0m \u001b[32m━━━━━━━━━━━━━━━━━━━━\u001b[0m\u001b[37m\u001b[0m \u001b[1m1s\u001b[0m 1ms/step - loss: 6.8770e-04\n",
      "Epoch 7/20\n",
      "\u001b[1m610/610\u001b[0m \u001b[32m━━━━━━━━━━━━━━━━━━━━\u001b[0m\u001b[37m\u001b[0m \u001b[1m1s\u001b[0m 1ms/step - loss: 8.4105e-04\n",
      "Epoch 8/20\n",
      "\u001b[1m610/610\u001b[0m \u001b[32m━━━━━━━━━━━━━━━━━━━━\u001b[0m\u001b[37m\u001b[0m \u001b[1m1s\u001b[0m 1ms/step - loss: 7.6137e-04\n",
      "Epoch 9/20\n",
      "\u001b[1m610/610\u001b[0m \u001b[32m━━━━━━━━━━━━━━━━━━━━\u001b[0m\u001b[37m\u001b[0m \u001b[1m1s\u001b[0m 1ms/step - loss: 7.8638e-04\n",
      "Epoch 10/20\n",
      "\u001b[1m610/610\u001b[0m \u001b[32m━━━━━━━━━━━━━━━━━━━━\u001b[0m\u001b[37m\u001b[0m \u001b[1m1s\u001b[0m 1ms/step - loss: 7.9352e-04\n",
      "Epoch 11/20\n",
      "\u001b[1m610/610\u001b[0m \u001b[32m━━━━━━━━━━━━━━━━━━━━\u001b[0m\u001b[37m\u001b[0m \u001b[1m1s\u001b[0m 1ms/step - loss: 7.9108e-04\n",
      "Epoch 12/20\n",
      "\u001b[1m610/610\u001b[0m \u001b[32m━━━━━━━━━━━━━━━━━━━━\u001b[0m\u001b[37m\u001b[0m \u001b[1m1s\u001b[0m 1ms/step - loss: 7.5970e-04\n",
      "Epoch 13/20\n",
      "\u001b[1m610/610\u001b[0m \u001b[32m━━━━━━━━━━━━━━━━━━━━\u001b[0m\u001b[37m\u001b[0m \u001b[1m1s\u001b[0m 1ms/step - loss: 7.8946e-04\n",
      "Epoch 14/20\n",
      "\u001b[1m610/610\u001b[0m \u001b[32m━━━━━━━━━━━━━━━━━━━━\u001b[0m\u001b[37m\u001b[0m \u001b[1m1s\u001b[0m 1ms/step - loss: 7.3281e-04\n",
      "Epoch 15/20\n",
      "\u001b[1m610/610\u001b[0m \u001b[32m━━━━━━━━━━━━━━━━━━━━\u001b[0m\u001b[37m\u001b[0m \u001b[1m1s\u001b[0m 1ms/step - loss: 7.1872e-04\n",
      "Epoch 16/20\n",
      "\u001b[1m610/610\u001b[0m \u001b[32m━━━━━━━━━━━━━━━━━━━━\u001b[0m\u001b[37m\u001b[0m \u001b[1m1s\u001b[0m 1ms/step - loss: 7.3725e-04\n",
      "Epoch 17/20\n",
      "\u001b[1m610/610\u001b[0m \u001b[32m━━━━━━━━━━━━━━━━━━━━\u001b[0m\u001b[37m\u001b[0m \u001b[1m1s\u001b[0m 1ms/step - loss: 7.4039e-04\n",
      "Epoch 18/20\n",
      "\u001b[1m610/610\u001b[0m \u001b[32m━━━━━━━━━━━━━━━━━━━━\u001b[0m\u001b[37m\u001b[0m \u001b[1m1s\u001b[0m 1ms/step - loss: 7.6991e-04\n",
      "Epoch 19/20\n",
      "\u001b[1m610/610\u001b[0m \u001b[32m━━━━━━━━━━━━━━━━━━━━\u001b[0m\u001b[37m\u001b[0m \u001b[1m1s\u001b[0m 1ms/step - loss: 7.4334e-04\n",
      "Epoch 20/20\n",
      "\u001b[1m610/610\u001b[0m \u001b[32m━━━━━━━━━━━━━━━━━━━━\u001b[0m\u001b[37m\u001b[0m \u001b[1m1s\u001b[0m 1ms/step - loss: 7.5493e-04\n"
     ]
    }
   ],
   "source": [
    "history = classifier.fit(train_df.astype(float).drop(columns = ['diameter']), train_df.astype(float)['diameter'], batch_size = 32, epochs = 20)"
   ]
  },
  {
   "cell_type": "code",
   "execution_count": 169,
   "metadata": {},
   "outputs": [
    {
     "name": "stdout",
     "output_type": "stream",
     "text": [
      "\u001b[1m153/153\u001b[0m \u001b[32m━━━━━━━━━━━━━━━━━━━━\u001b[0m\u001b[37m\u001b[0m \u001b[1m0s\u001b[0m 856us/step\n"
     ]
    },
    {
     "data": {
      "text/plain": [
       "array([[0.03512561],\n",
       "       [0.05076573],\n",
       "       [0.05433395],\n",
       "       ...,\n",
       "       [0.01212105],\n",
       "       [0.03636147],\n",
       "       [0.0131825 ]], dtype=float32)"
      ]
     },
     "execution_count": 169,
     "metadata": {},
     "output_type": "execute_result"
    }
   ],
   "source": [
    "yhat_test = classifier.predict(test_df.drop(columns = ['diameter']))\n",
    "yhat_test"
   ]
  },
  {
   "cell_type": "code",
   "execution_count": 170,
   "metadata": {},
   "outputs": [
    {
     "data": {
      "text/plain": [
       "8648     0.031905\n",
       "21091    0.042926\n",
       "5953     0.088167\n",
       "17805    0.012179\n",
       "3503     0.047271\n",
       "           ...   \n",
       "8195     0.020358\n",
       "7107     0.017120\n",
       "9129     0.015907\n",
       "13829    0.027199\n",
       "18391    0.015326\n",
       "Name: diameter, Length: 4874, dtype: float64"
      ]
     },
     "execution_count": 170,
     "metadata": {},
     "output_type": "execute_result"
    }
   ],
   "source": [
    "y_test = test_df['diameter'].astype(float)\n",
    "y_test"
   ]
  },
  {
   "cell_type": "code",
   "execution_count": 173,
   "metadata": {},
   "outputs": [
    {
     "name": "stdout",
     "output_type": "stream",
     "text": [
      "Neural-MSE 0.0006946875054968872\n",
      "\u001b[1m610/610\u001b[0m \u001b[32m━━━━━━━━━━━━━━━━━━━━\u001b[0m\u001b[37m\u001b[0m \u001b[1m1s\u001b[0m 1ms/step\n",
      "Training-MSE 0.0007307523983123436\n"
     ]
    }
   ],
   "source": [
    "from sklearn.metrics import mean_squared_error\n",
    "\n",
    "mse = mean_squared_error(y_test, yhat_test)\n",
    "print(\"Neural-MSE\",mse)\n",
    "\n",
    "#Calculating training MSE\n",
    "yhat_train = classifier.predict(train_df.drop(columns = ['diameter']))\n",
    "mse_train = mean_squared_error(train_df['diameter'], yhat_train)\n",
    "print(\"Training-MSE\",mse_train)\n"
   ]
  },
  {
   "cell_type": "code",
   "execution_count": 138,
   "metadata": {},
   "outputs": [
    {
     "data": {
      "text/html": [
       "<div>\n",
       "<style scoped>\n",
       "    .dataframe tbody tr th:only-of-type {\n",
       "        vertical-align: middle;\n",
       "    }\n",
       "\n",
       "    .dataframe tbody tr th {\n",
       "        vertical-align: top;\n",
       "    }\n",
       "\n",
       "    .dataframe thead th {\n",
       "        text-align: right;\n",
       "    }\n",
       "</style>\n",
       "<table border=\"1\" class=\"dataframe\">\n",
       "  <thead>\n",
       "    <tr style=\"text-align: right;\">\n",
       "      <th></th>\n",
       "      <th>y_test</th>\n",
       "      <th>yhat_test</th>\n",
       "    </tr>\n",
       "  </thead>\n",
       "  <tbody>\n",
       "    <tr>\n",
       "      <th>218</th>\n",
       "      <td>0.844986</td>\n",
       "      <td>0.696619</td>\n",
       "    </tr>\n",
       "    <tr>\n",
       "      <th>34</th>\n",
       "      <td>0.841347</td>\n",
       "      <td>0.616372</td>\n",
       "    </tr>\n",
       "    <tr>\n",
       "      <th>35</th>\n",
       "      <td>0.831715</td>\n",
       "      <td>0.669447</td>\n",
       "    </tr>\n",
       "    <tr>\n",
       "      <th>44</th>\n",
       "      <td>0.826036</td>\n",
       "      <td>0.576020</td>\n",
       "    </tr>\n",
       "    <tr>\n",
       "      <th>167</th>\n",
       "      <td>0.795369</td>\n",
       "      <td>0.763377</td>\n",
       "    </tr>\n",
       "    <tr>\n",
       "      <th>69</th>\n",
       "      <td>0.774270</td>\n",
       "      <td>0.609027</td>\n",
       "    </tr>\n",
       "    <tr>\n",
       "      <th>75</th>\n",
       "      <td>0.771087</td>\n",
       "      <td>0.589709</td>\n",
       "    </tr>\n",
       "    <tr>\n",
       "      <th>509</th>\n",
       "      <td>0.735559</td>\n",
       "      <td>0.681064</td>\n",
       "    </tr>\n",
       "    <tr>\n",
       "      <th>245</th>\n",
       "      <td>0.723124</td>\n",
       "      <td>0.572785</td>\n",
       "    </tr>\n",
       "    <tr>\n",
       "      <th>133</th>\n",
       "      <td>0.716915</td>\n",
       "      <td>0.474025</td>\n",
       "    </tr>\n",
       "    <tr>\n",
       "      <th>674</th>\n",
       "      <td>0.661359</td>\n",
       "      <td>0.573350</td>\n",
       "    </tr>\n",
       "    <tr>\n",
       "      <th>224</th>\n",
       "      <td>0.654714</td>\n",
       "      <td>0.590526</td>\n",
       "    </tr>\n",
       "    <tr>\n",
       "      <th>326</th>\n",
       "      <td>0.643658</td>\n",
       "      <td>0.605101</td>\n",
       "    </tr>\n",
       "    <tr>\n",
       "      <th>54</th>\n",
       "      <td>0.639558</td>\n",
       "      <td>0.525056</td>\n",
       "    </tr>\n",
       "    <tr>\n",
       "      <th>150</th>\n",
       "      <td>0.629083</td>\n",
       "      <td>0.621997</td>\n",
       "    </tr>\n",
       "  </tbody>\n",
       "</table>\n",
       "</div>"
      ],
      "text/plain": [
       "       y_test  yhat_test\n",
       "218  0.844986   0.696619\n",
       "34   0.841347   0.616372\n",
       "35   0.831715   0.669447\n",
       "44   0.826036   0.576020\n",
       "167  0.795369   0.763377\n",
       "69   0.774270   0.609027\n",
       "75   0.771087   0.589709\n",
       "509  0.735559   0.681064\n",
       "245  0.723124   0.572785\n",
       "133  0.716915   0.474025\n",
       "674  0.661359   0.573350\n",
       "224  0.654714   0.590526\n",
       "326  0.643658   0.605101\n",
       "54   0.639558   0.525056\n",
       "150  0.629083   0.621997"
      ]
     },
     "execution_count": 138,
     "metadata": {},
     "output_type": "execute_result"
    }
   ],
   "source": [
    "#print y_test and yhat_test next to each other\n",
    "y_test_pred = pd.DataFrame({'y_test':y_test, 'yhat_test':yhat_test.flatten()}).sort_values(by='y_test', ascending=False)\n",
    "y_test_pred[:15]"
   ]
  },
  {
   "cell_type": "code",
   "execution_count": 142,
   "metadata": {},
   "outputs": [
    {
     "data": {
      "text/plain": [
       "[<matplotlib.lines.Line2D at 0x153e2e650>]"
      ]
     },
     "execution_count": 142,
     "metadata": {},
     "output_type": "execute_result"
    },
    {
     "data": {
      "image/png": "[encoded data removed]",
      "text/plain": [
       "<Figure size 640x480 with 1 Axes>"
      ]
     },
     "metadata": {},
     "output_type": "display_data"
    }
   ],
   "source": [
    "#Graph for y_test and yhat_test with labels\n",
    "plt.scatter(y_test, yhat_test)\n",
    "#draw a line at 45 deg angle\n",
    "plt.plot([0, 1], [0, 1], color = 'black')"
   ]
  },
  {
   "cell_type": "code",
   "execution_count": 105,
   "metadata": {},
   "outputs": [],
   "source": [
    "from keras.models import Sequential\n",
    "from keras.layers import Dense, Input\n",
    "from keras.optimizers import SGD\n",
    "import keras_tuner as kt\n",
    "from scikeras.wrappers import KerasRegressor\n",
    "from sklearn.model_selection import cross_val_score\n",
    "from sklearn.model_selection import RepeatedKFold\n",
    "from keras.optimizers import Adam"
   ]
  },
  {
   "cell_type": "code",
   "execution_count": 122,
   "metadata": {},
   "outputs": [],
   "source": [
    "def build_model(hp):\n",
    "    model = Sequential()\n",
    "    model.add(Input(shape=(X_train.shape[1],)))\n",
    "    for i in range(hp.Int(\"num_layers\", 3, 6)):\n",
    "        model.add(Dense(units=hp.Int(f'units_{i}', min_value=32, max_value=256, step=32),\n",
    "                        activation=hp.Choice(\"activation\", [\"relu\"]),))\n",
    "\n",
    "    model.add(Dense(1, activation='relu'))\n",
    "    optimizer = Adam(learning_rate=hp.Choice('learning_rate', values=[1e-4, 1e-5, 1e-6]))\n",
    "    model.compile(optimizer=optimizer, loss='mean_squared_error', metrics=['mean_squared_error'])\n",
    "    return model"
   ]
  },
  {
   "cell_type": "code",
   "execution_count": 123,
   "metadata": {},
   "outputs": [],
   "source": [
    "tuner = kt.RandomSearch(\n",
    "    build_model,\n",
    "    objective='val_mean_squared_error',\n",
    "    max_trials=5,\n",
    "    executions_per_trial=1,\n",
    "    directory='my_dir',\n",
    "    overwrite=True,\n",
    "    project_name='asteroid'\n",
    ")"
   ]
  },
  {
   "cell_type": "code",
   "execution_count": 124,
   "metadata": {},
   "outputs": [
    {
     "name": "stdout",
     "output_type": "stream",
     "text": [
      "Search space summary\n",
      "Default search space size: 6\n",
      "num_layers (Int)\n",
      "{'default': None, 'conditions': [], 'min_value': 3, 'max_value': 6, 'step': 1, 'sampling': 'linear'}\n",
      "units_0 (Int)\n",
      "{'default': None, 'conditions': [], 'min_value': 32, 'max_value': 256, 'step': 32, 'sampling': 'linear'}\n",
      "activation (Choice)\n",
      "{'default': 'relu', 'conditions': [], 'values': ['relu'], 'ordered': False}\n",
      "units_1 (Int)\n",
      "{'default': None, 'conditions': [], 'min_value': 32, 'max_value': 256, 'step': 32, 'sampling': 'linear'}\n",
      "units_2 (Int)\n",
      "{'default': None, 'conditions': [], 'min_value': 32, 'max_value': 256, 'step': 32, 'sampling': 'linear'}\n",
      "learning_rate (Choice)\n",
      "{'default': 0.0001, 'conditions': [], 'values': [0.0001, 1e-05, 1e-06], 'ordered': True}\n"
     ]
    }
   ],
   "source": [
    "tuner.search_space_summary()"
   ]
  },
  {
   "cell_type": "code",
   "execution_count": 125,
   "metadata": {},
   "outputs": [
    {
     "name": "stdout",
     "output_type": "stream",
     "text": [
      "Trial 5 Complete [00h 00m 59s]\n",
      "val_mean_squared_error: 0.0007978464127518237\n",
      "\n",
      "Best val_mean_squared_error So Far: 0.0007978464127518237\n",
      "Total elapsed time: 00h 04m 53s\n"
     ]
    }
   ],
   "source": [
    "tuner.search(X_train, y_train, epochs=50, validation_split=0.1, batch_size=32)"
   ]
  },
  {
   "cell_type": "code",
   "execution_count": 146,
   "metadata": {},
   "outputs": [
    {
     "name": "stdout",
     "output_type": "stream",
     "text": [
      "Results summary\n",
      "Results in my_dir/asteroid\n",
      "Showing 10 best trials\n",
      "Objective(name=\"val_mean_squared_error\", direction=\"min\")\n",
      "\n",
      "Trial 4 summary\n",
      "Hyperparameters:\n",
      "num_layers: 5\n",
      "units_0: 96\n",
      "activation: relu\n",
      "units_1: 96\n",
      "units_2: 192\n",
      "learning_rate: 1e-05\n",
      "units_3: 256\n",
      "units_4: 96\n",
      "units_5: 256\n",
      "Score: 0.0007978464127518237\n",
      "\n",
      "Trial 3 summary\n",
      "Hyperparameters:\n",
      "num_layers: 4\n",
      "units_0: 160\n",
      "activation: relu\n",
      "units_1: 96\n",
      "units_2: 256\n",
      "learning_rate: 1e-05\n",
      "units_3: 160\n",
      "units_4: 96\n",
      "units_5: 32\n",
      "Score: 0.0008115388918668032\n",
      "\n",
      "Trial 2 summary\n",
      "Hyperparameters:\n",
      "num_layers: 6\n",
      "units_0: 192\n",
      "activation: relu\n",
      "units_1: 256\n",
      "units_2: 32\n",
      "learning_rate: 1e-05\n",
      "units_3: 32\n",
      "units_4: 32\n",
      "units_5: 32\n",
      "Score: 0.0008128292975015938\n",
      "\n",
      "Trial 0 summary\n",
      "Hyperparameters:\n",
      "num_layers: 4\n",
      "units_0: 224\n",
      "activation: relu\n",
      "units_1: 256\n",
      "units_2: 256\n",
      "learning_rate: 0.0001\n",
      "units_3: 32\n",
      "Score: 0.0008207532810047269\n",
      "\n",
      "Trial 1 summary\n",
      "Hyperparameters:\n",
      "num_layers: 3\n",
      "units_0: 256\n",
      "activation: relu\n",
      "units_1: 160\n",
      "units_2: 224\n",
      "learning_rate: 1e-06\n",
      "units_3: 128\n",
      "Score: 0.0019420497119426727\n"
     ]
    }
   ],
   "source": [
    "tuner.results_summary()"
   ]
  },
  {
   "cell_type": "code",
   "execution_count": 148,
   "metadata": {},
   "outputs": [
    {
     "data": {
      "text/plain": [
       "{'num_layers': 5,\n",
       " 'units_0': 96,\n",
       " 'activation': 'relu',\n",
       " 'units_1': 96,\n",
       " 'units_2': 192,\n",
       " 'learning_rate': 1e-05,\n",
       " 'units_3': 256,\n",
       " 'units_4': 96,\n",
       " 'units_5': 256}"
      ]
     },
     "execution_count": 148,
     "metadata": {},
     "output_type": "execute_result"
    }
   ],
   "source": [
    "best = tuner.get_best_hyperparameters()[0]\n",
    "best.values"
   ]
  },
  {
   "cell_type": "code",
   "execution_count": 149,
   "metadata": {},
   "outputs": [],
   "source": [
    "model1 = tuner.hypermodel.build(best)"
   ]
  },
  {
   "cell_type": "code",
   "execution_count": 150,
   "metadata": {},
   "outputs": [
    {
     "data": {
      "text/html": [
       "<pre style=\"white-space:pre;overflow-x:auto;line-height:normal;font-family:Menlo,'DejaVu Sans Mono',consolas,'Courier New',monospace\"><span style=\"font-weight: bold\">Model: \"sequential_1\"</span>\n",
       "</pre>\n"
      ],
      "text/plain": [
       "\u001b[1mModel: \"sequential_1\"\u001b[0m\n"
      ]
     },
     "metadata": {},
     "output_type": "display_data"
    },
    {
     "data": {
      "text/html": [
       "<pre style=\"white-space:pre;overflow-x:auto;line-height:normal;font-family:Menlo,'DejaVu Sans Mono',consolas,'Courier New',monospace\">┏━━━━━━━━━━━━━━━━━━━━━━━━━━━━━━━━━┳━━━━━━━━━━━━━━━━━━━━━━━━┳━━━━━━━━━━━━━━━┓\n",
       "┃<span style=\"font-weight: bold\"> Layer (type)                    </span>┃<span style=\"font-weight: bold\"> Output Shape           </span>┃<span style=\"font-weight: bold\">       Param # </span>┃\n",
       "┡━━━━━━━━━━━━━━━━━━━━━━━━━━━━━━━━━╇━━━━━━━━━━━━━━━━━━━━━━━━╇━━━━━━━━━━━━━━━┩\n",
       "│ dense_6 (<span style=\"color: #0087ff; text-decoration-color: #0087ff\">Dense</span>)                 │ (<span style=\"color: #00d7ff; text-decoration-color: #00d7ff\">None</span>, <span style=\"color: #00af00; text-decoration-color: #00af00\">96</span>)             │           <span style=\"color: #00af00; text-decoration-color: #00af00\">768</span> │\n",
       "├─────────────────────────────────┼────────────────────────┼───────────────┤\n",
       "│ dense_7 (<span style=\"color: #0087ff; text-decoration-color: #0087ff\">Dense</span>)                 │ (<span style=\"color: #00d7ff; text-decoration-color: #00d7ff\">None</span>, <span style=\"color: #00af00; text-decoration-color: #00af00\">96</span>)             │         <span style=\"color: #00af00; text-decoration-color: #00af00\">9,312</span> │\n",
       "├─────────────────────────────────┼────────────────────────┼───────────────┤\n",
       "│ dense_8 (<span style=\"color: #0087ff; text-decoration-color: #0087ff\">Dense</span>)                 │ (<span style=\"color: #00d7ff; text-decoration-color: #00d7ff\">None</span>, <span style=\"color: #00af00; text-decoration-color: #00af00\">192</span>)            │        <span style=\"color: #00af00; text-decoration-color: #00af00\">18,624</span> │\n",
       "├─────────────────────────────────┼────────────────────────┼───────────────┤\n",
       "│ dense_9 (<span style=\"color: #0087ff; text-decoration-color: #0087ff\">Dense</span>)                 │ (<span style=\"color: #00d7ff; text-decoration-color: #00d7ff\">None</span>, <span style=\"color: #00af00; text-decoration-color: #00af00\">256</span>)            │        <span style=\"color: #00af00; text-decoration-color: #00af00\">49,408</span> │\n",
       "├─────────────────────────────────┼────────────────────────┼───────────────┤\n",
       "│ dense_10 (<span style=\"color: #0087ff; text-decoration-color: #0087ff\">Dense</span>)                │ (<span style=\"color: #00d7ff; text-decoration-color: #00d7ff\">None</span>, <span style=\"color: #00af00; text-decoration-color: #00af00\">96</span>)             │        <span style=\"color: #00af00; text-decoration-color: #00af00\">24,672</span> │\n",
       "├─────────────────────────────────┼────────────────────────┼───────────────┤\n",
       "│ dense_11 (<span style=\"color: #0087ff; text-decoration-color: #0087ff\">Dense</span>)                │ (<span style=\"color: #00d7ff; text-decoration-color: #00d7ff\">None</span>, <span style=\"color: #00af00; text-decoration-color: #00af00\">1</span>)              │            <span style=\"color: #00af00; text-decoration-color: #00af00\">97</span> │\n",
       "└─────────────────────────────────┴────────────────────────┴───────────────┘\n",
       "</pre>\n"
      ],
      "text/plain": [
       "┏━━━━━━━━━━━━━━━━━━━━━━━━━━━━━━━━━┳━━━━━━━━━━━━━━━━━━━━━━━━┳━━━━━━━━━━━━━━━┓\n",
       "┃\u001b[1m \u001b[0m\u001b[1mLayer (type)                   \u001b[0m\u001b[1m \u001b[0m┃\u001b[1m \u001b[0m\u001b[1mOutput Shape          \u001b[0m\u001b[1m \u001b[0m┃\u001b[1m \u001b[0m\u001b[1m      Param #\u001b[0m\u001b[1m \u001b[0m┃\n",
       "┡━━━━━━━━━━━━━━━━━━━━━━━━━━━━━━━━━╇━━━━━━━━━━━━━━━━━━━━━━━━╇━━━━━━━━━━━━━━━┩\n",
       "│ dense_6 (\u001b[38;5;33mDense\u001b[0m)                 │ (\u001b[38;5;45mNone\u001b[0m, \u001b[38;5;34m96\u001b[0m)             │           \u001b[38;5;34m768\u001b[0m │\n",
       "├─────────────────────────────────┼────────────────────────┼───────────────┤\n",
       "│ dense_7 (\u001b[38;5;33mDense\u001b[0m)                 │ (\u001b[38;5;45mNone\u001b[0m, \u001b[38;5;34m96\u001b[0m)             │         \u001b[38;5;34m9,312\u001b[0m │\n",
       "├─────────────────────────────────┼────────────────────────┼───────────────┤\n",
       "│ dense_8 (\u001b[38;5;33mDense\u001b[0m)                 │ (\u001b[38;5;45mNone\u001b[0m, \u001b[38;5;34m192\u001b[0m)            │        \u001b[38;5;34m18,624\u001b[0m │\n",
       "├─────────────────────────────────┼────────────────────────┼───────────────┤\n",
       "│ dense_9 (\u001b[38;5;33mDense\u001b[0m)                 │ (\u001b[38;5;45mNone\u001b[0m, \u001b[38;5;34m256\u001b[0m)            │        \u001b[38;5;34m49,408\u001b[0m │\n",
       "├─────────────────────────────────┼────────────────────────┼───────────────┤\n",
       "│ dense_10 (\u001b[38;5;33mDense\u001b[0m)                │ (\u001b[38;5;45mNone\u001b[0m, \u001b[38;5;34m96\u001b[0m)             │        \u001b[38;5;34m24,672\u001b[0m │\n",
       "├─────────────────────────────────┼────────────────────────┼───────────────┤\n",
       "│ dense_11 (\u001b[38;5;33mDense\u001b[0m)                │ (\u001b[38;5;45mNone\u001b[0m, \u001b[38;5;34m1\u001b[0m)              │            \u001b[38;5;34m97\u001b[0m │\n",
       "└─────────────────────────────────┴────────────────────────┴───────────────┘\n"
      ]
     },
     "metadata": {},
     "output_type": "display_data"
    },
    {
     "data": {
      "text/html": [
       "<pre style=\"white-space:pre;overflow-x:auto;line-height:normal;font-family:Menlo,'DejaVu Sans Mono',consolas,'Courier New',monospace\"><span style=\"font-weight: bold\"> Total params: </span><span style=\"color: #00af00; text-decoration-color: #00af00\">102,881</span> (401.88 KB)\n",
       "</pre>\n"
      ],
      "text/plain": [
       "\u001b[1m Total params: \u001b[0m\u001b[38;5;34m102,881\u001b[0m (401.88 KB)\n"
      ]
     },
     "metadata": {},
     "output_type": "display_data"
    },
    {
     "data": {
      "text/html": [
       "<pre style=\"white-space:pre;overflow-x:auto;line-height:normal;font-family:Menlo,'DejaVu Sans Mono',consolas,'Courier New',monospace\"><span style=\"font-weight: bold\"> Trainable params: </span><span style=\"color: #00af00; text-decoration-color: #00af00\">102,881</span> (401.88 KB)\n",
       "</pre>\n"
      ],
      "text/plain": [
       "\u001b[1m Trainable params: \u001b[0m\u001b[38;5;34m102,881\u001b[0m (401.88 KB)\n"
      ]
     },
     "metadata": {},
     "output_type": "display_data"
    },
    {
     "data": {
      "text/html": [
       "<pre style=\"white-space:pre;overflow-x:auto;line-height:normal;font-family:Menlo,'DejaVu Sans Mono',consolas,'Courier New',monospace\"><span style=\"font-weight: bold\"> Non-trainable params: </span><span style=\"color: #00af00; text-decoration-color: #00af00\">0</span> (0.00 B)\n",
       "</pre>\n"
      ],
      "text/plain": [
       "\u001b[1m Non-trainable params: \u001b[0m\u001b[38;5;34m0\u001b[0m (0.00 B)\n"
      ]
     },
     "metadata": {},
     "output_type": "display_data"
    }
   ],
   "source": [
    "model1.summary()"
   ]
  },
  {
   "cell_type": "code",
   "execution_count": 151,
   "metadata": {},
   "outputs": [
    {
     "name": "stdout",
     "output_type": "stream",
     "text": [
      "Epoch 1/50\n",
      "\u001b[1m549/549\u001b[0m \u001b[32m━━━━━━━━━━━━━━━━━━━━\u001b[0m\u001b[37m\u001b[0m \u001b[1m3s\u001b[0m 2ms/step - loss: 0.0053 - mean_squared_error: 0.0053 - val_loss: 0.0039 - val_mean_squared_error: 0.0039\n",
      "Epoch 2/50\n",
      "\u001b[1m549/549\u001b[0m \u001b[32m━━━━━━━━━━━━━━━━━━━━\u001b[0m\u001b[37m\u001b[0m \u001b[1m1s\u001b[0m 2ms/step - loss: 0.0032 - mean_squared_error: 0.0032 - val_loss: 0.0029 - val_mean_squared_error: 0.0029\n",
      "Epoch 3/50\n",
      "\u001b[1m549/549\u001b[0m \u001b[32m━━━━━━━━━━━━━━━━━━━━\u001b[0m\u001b[37m\u001b[0m \u001b[1m1s\u001b[0m 2ms/step - loss: 0.0022 - mean_squared_error: 0.0022 - val_loss: 0.0022 - val_mean_squared_error: 0.0022\n",
      "Epoch 4/50\n",
      "\u001b[1m549/549\u001b[0m \u001b[32m━━━━━━━━━━━━━━━━━━━━\u001b[0m\u001b[37m\u001b[0m \u001b[1m1s\u001b[0m 2ms/step - loss: 0.0018 - mean_squared_error: 0.0018 - val_loss: 0.0017 - val_mean_squared_error: 0.0017\n",
      "Epoch 5/50\n",
      "\u001b[1m549/549\u001b[0m \u001b[32m━━━━━━━━━━━━━━━━━━━━\u001b[0m\u001b[37m\u001b[0m \u001b[1m1s\u001b[0m 2ms/step - loss: 0.0016 - mean_squared_error: 0.0016 - val_loss: 0.0014 - val_mean_squared_error: 0.0014\n",
      "Epoch 6/50\n",
      "\u001b[1m549/549\u001b[0m \u001b[32m━━━━━━━━━━━━━━━━━━━━\u001b[0m\u001b[37m\u001b[0m \u001b[1m1s\u001b[0m 3ms/step - loss: 0.0011 - mean_squared_error: 0.0011 - val_loss: 0.0012 - val_mean_squared_error: 0.0012\n",
      "Epoch 7/50\n",
      "\u001b[1m549/549\u001b[0m \u001b[32m━━━━━━━━━━━━━━━━━━━━\u001b[0m\u001b[37m\u001b[0m \u001b[1m1s\u001b[0m 2ms/step - loss: 0.0011 - mean_squared_error: 0.0011 - val_loss: 0.0011 - val_mean_squared_error: 0.0011\n",
      "Epoch 8/50\n",
      "\u001b[1m549/549\u001b[0m \u001b[32m━━━━━━━━━━━━━━━━━━━━\u001b[0m\u001b[37m\u001b[0m \u001b[1m1s\u001b[0m 3ms/step - loss: 0.0010 - mean_squared_error: 0.0010 - val_loss: 9.8500e-04 - val_mean_squared_error: 9.8500e-04\n",
      "Epoch 9/50\n",
      "\u001b[1m549/549\u001b[0m \u001b[32m━━━━━━━━━━━━━━━━━━━━\u001b[0m\u001b[37m\u001b[0m \u001b[1m1s\u001b[0m 2ms/step - loss: 8.6202e-04 - mean_squared_error: 8.6202e-04 - val_loss: 9.2454e-04 - val_mean_squared_error: 9.2454e-04\n",
      "Epoch 10/50\n",
      "\u001b[1m549/549\u001b[0m \u001b[32m━━━━━━━━━━━━━━━━━━━━\u001b[0m\u001b[37m\u001b[0m \u001b[1m1s\u001b[0m 2ms/step - loss: 8.6877e-04 - mean_squared_error: 8.6877e-04 - val_loss: 9.0426e-04 - val_mean_squared_error: 9.0426e-04\n",
      "Epoch 11/50\n",
      "\u001b[1m549/549\u001b[0m \u001b[32m━━━━━━━━━━━━━━━━━━━━\u001b[0m\u001b[37m\u001b[0m \u001b[1m1s\u001b[0m 2ms/step - loss: 8.6118e-04 - mean_squared_error: 8.6118e-04 - val_loss: 8.7945e-04 - val_mean_squared_error: 8.7945e-04\n",
      "Epoch 12/50\n",
      "\u001b[1m549/549\u001b[0m \u001b[32m━━━━━━━━━━━━━━━━━━━━\u001b[0m\u001b[37m\u001b[0m \u001b[1m1s\u001b[0m 2ms/step - loss: 8.0651e-04 - mean_squared_error: 8.0651e-04 - val_loss: 8.6109e-04 - val_mean_squared_error: 8.6109e-04\n",
      "Epoch 13/50\n",
      "\u001b[1m549/549\u001b[0m \u001b[32m━━━━━━━━━━━━━━━━━━━━\u001b[0m\u001b[37m\u001b[0m \u001b[1m1s\u001b[0m 2ms/step - loss: 7.6886e-04 - mean_squared_error: 7.6886e-04 - val_loss: 8.5681e-04 - val_mean_squared_error: 8.5681e-04\n",
      "Epoch 14/50\n",
      "\u001b[1m549/549\u001b[0m \u001b[32m━━━━━━━━━━━━━━━━━━━━\u001b[0m\u001b[37m\u001b[0m \u001b[1m1s\u001b[0m 2ms/step - loss: 7.4110e-04 - mean_squared_error: 7.4110e-04 - val_loss: 8.7239e-04 - val_mean_squared_error: 8.7239e-04\n",
      "Epoch 15/50\n",
      "\u001b[1m549/549\u001b[0m \u001b[32m━━━━━━━━━━━━━━━━━━━━\u001b[0m\u001b[37m\u001b[0m \u001b[1m1s\u001b[0m 2ms/step - loss: 7.7153e-04 - mean_squared_error: 7.7153e-04 - val_loss: 8.5451e-04 - val_mean_squared_error: 8.5451e-04\n",
      "Epoch 16/50\n",
      "\u001b[1m549/549\u001b[0m \u001b[32m━━━━━━━━━━━━━━━━━━━━\u001b[0m\u001b[37m\u001b[0m \u001b[1m1s\u001b[0m 2ms/step - loss: 7.7643e-04 - mean_squared_error: 7.7643e-04 - val_loss: 8.3337e-04 - val_mean_squared_error: 8.3337e-04\n",
      "Epoch 17/50\n",
      "\u001b[1m549/549\u001b[0m \u001b[32m━━━━━━━━━━━━━━━━━━━━\u001b[0m\u001b[37m\u001b[0m \u001b[1m1s\u001b[0m 2ms/step - loss: 8.4130e-04 - mean_squared_error: 8.4130e-04 - val_loss: 8.4486e-04 - val_mean_squared_error: 8.4486e-04\n",
      "Epoch 18/50\n",
      "\u001b[1m549/549\u001b[0m \u001b[32m━━━━━━━━━━━━━━━━━━━━\u001b[0m\u001b[37m\u001b[0m \u001b[1m1s\u001b[0m 2ms/step - loss: 7.4328e-04 - mean_squared_error: 7.4328e-04 - val_loss: 8.3010e-04 - val_mean_squared_error: 8.3010e-04\n",
      "Epoch 19/50\n",
      "\u001b[1m549/549\u001b[0m \u001b[32m━━━━━━━━━━━━━━━━━━━━\u001b[0m\u001b[37m\u001b[0m \u001b[1m1s\u001b[0m 2ms/step - loss: 7.3863e-04 - mean_squared_error: 7.3863e-04 - val_loss: 8.2881e-04 - val_mean_squared_error: 8.2881e-04\n",
      "Epoch 20/50\n",
      "\u001b[1m549/549\u001b[0m \u001b[32m━━━━━━━━━━━━━━━━━━━━\u001b[0m\u001b[37m\u001b[0m \u001b[1m1s\u001b[0m 2ms/step - loss: 7.4046e-04 - mean_squared_error: 7.4046e-04 - val_loss: 8.4115e-04 - val_mean_squared_error: 8.4115e-04\n",
      "Epoch 21/50\n",
      "\u001b[1m549/549\u001b[0m \u001b[32m━━━━━━━━━━━━━━━━━━━━\u001b[0m\u001b[37m\u001b[0m \u001b[1m1s\u001b[0m 2ms/step - loss: 7.7713e-04 - mean_squared_error: 7.7713e-04 - val_loss: 8.2661e-04 - val_mean_squared_error: 8.2661e-04\n",
      "Epoch 22/50\n",
      "\u001b[1m549/549\u001b[0m \u001b[32m━━━━━━━━━━━━━━━━━━━━\u001b[0m\u001b[37m\u001b[0m \u001b[1m1s\u001b[0m 2ms/step - loss: 7.2699e-04 - mean_squared_error: 7.2699e-04 - val_loss: 8.2432e-04 - val_mean_squared_error: 8.2432e-04\n",
      "Epoch 23/50\n",
      "\u001b[1m549/549\u001b[0m \u001b[32m━━━━━━━━━━━━━━━━━━━━\u001b[0m\u001b[37m\u001b[0m \u001b[1m1s\u001b[0m 2ms/step - loss: 7.5014e-04 - mean_squared_error: 7.5014e-04 - val_loss: 8.1977e-04 - val_mean_squared_error: 8.1977e-04\n",
      "Epoch 24/50\n",
      "\u001b[1m549/549\u001b[0m \u001b[32m━━━━━━━━━━━━━━━━━━━━\u001b[0m\u001b[37m\u001b[0m \u001b[1m1s\u001b[0m 2ms/step - loss: 7.2990e-04 - mean_squared_error: 7.2990e-04 - val_loss: 8.2713e-04 - val_mean_squared_error: 8.2713e-04\n",
      "Epoch 25/50\n",
      "\u001b[1m549/549\u001b[0m \u001b[32m━━━━━━━━━━━━━━━━━━━━\u001b[0m\u001b[37m\u001b[0m \u001b[1m1s\u001b[0m 2ms/step - loss: 7.3725e-04 - mean_squared_error: 7.3725e-04 - val_loss: 8.2939e-04 - val_mean_squared_error: 8.2939e-04\n",
      "Epoch 26/50\n",
      "\u001b[1m549/549\u001b[0m \u001b[32m━━━━━━━━━━━━━━━━━━━━\u001b[0m\u001b[37m\u001b[0m \u001b[1m1s\u001b[0m 2ms/step - loss: 7.5515e-04 - mean_squared_error: 7.5515e-04 - val_loss: 8.2283e-04 - val_mean_squared_error: 8.2283e-04\n",
      "Epoch 27/50\n",
      "\u001b[1m549/549\u001b[0m \u001b[32m━━━━━━━━━━━━━━━━━━━━\u001b[0m\u001b[37m\u001b[0m \u001b[1m1s\u001b[0m 2ms/step - loss: 6.8139e-04 - mean_squared_error: 6.8139e-04 - val_loss: 8.2733e-04 - val_mean_squared_error: 8.2733e-04\n",
      "Epoch 28/50\n",
      "\u001b[1m549/549\u001b[0m \u001b[32m━━━━━━━━━━━━━━━━━━━━\u001b[0m\u001b[37m\u001b[0m \u001b[1m1s\u001b[0m 2ms/step - loss: 7.5782e-04 - mean_squared_error: 7.5782e-04 - val_loss: 8.3235e-04 - val_mean_squared_error: 8.3235e-04\n",
      "Epoch 29/50\n",
      "\u001b[1m549/549\u001b[0m \u001b[32m━━━━━━━━━━━━━━━━━━━━\u001b[0m\u001b[37m\u001b[0m \u001b[1m1s\u001b[0m 2ms/step - loss: 7.2938e-04 - mean_squared_error: 7.2938e-04 - val_loss: 8.4930e-04 - val_mean_squared_error: 8.4930e-04\n",
      "Epoch 30/50\n",
      "\u001b[1m549/549\u001b[0m \u001b[32m━━━━━━━━━━━━━━━━━━━━\u001b[0m\u001b[37m\u001b[0m \u001b[1m1s\u001b[0m 2ms/step - loss: 7.2697e-04 - mean_squared_error: 7.2697e-04 - val_loss: 8.3060e-04 - val_mean_squared_error: 8.3060e-04\n",
      "Epoch 31/50\n",
      "\u001b[1m549/549\u001b[0m \u001b[32m━━━━━━━━━━━━━━━━━━━━\u001b[0m\u001b[37m\u001b[0m \u001b[1m1s\u001b[0m 2ms/step - loss: 6.7785e-04 - mean_squared_error: 6.7785e-04 - val_loss: 8.2989e-04 - val_mean_squared_error: 8.2989e-04\n",
      "Epoch 32/50\n",
      "\u001b[1m549/549\u001b[0m \u001b[32m━━━━━━━━━━━━━━━━━━━━\u001b[0m\u001b[37m\u001b[0m \u001b[1m1s\u001b[0m 2ms/step - loss: 7.4320e-04 - mean_squared_error: 7.4320e-04 - val_loss: 8.3778e-04 - val_mean_squared_error: 8.3778e-04\n",
      "Epoch 33/50\n",
      "\u001b[1m549/549\u001b[0m \u001b[32m━━━━━━━━━━━━━━━━━━━━\u001b[0m\u001b[37m\u001b[0m \u001b[1m2s\u001b[0m 3ms/step - loss: 7.5000e-04 - mean_squared_error: 7.5000e-04 - val_loss: 8.2386e-04 - val_mean_squared_error: 8.2386e-04\n",
      "Epoch 34/50\n",
      "\u001b[1m549/549\u001b[0m \u001b[32m━━━━━━━━━━━━━━━━━━━━\u001b[0m\u001b[37m\u001b[0m \u001b[1m1s\u001b[0m 2ms/step - loss: 7.5559e-04 - mean_squared_error: 7.5559e-04 - val_loss: 8.2616e-04 - val_mean_squared_error: 8.2616e-04\n",
      "Epoch 35/50\n",
      "\u001b[1m549/549\u001b[0m \u001b[32m━━━━━━━━━━━━━━━━━━━━\u001b[0m\u001b[37m\u001b[0m \u001b[1m2s\u001b[0m 3ms/step - loss: 7.2461e-04 - mean_squared_error: 7.2461e-04 - val_loss: 8.2281e-04 - val_mean_squared_error: 8.2281e-04\n",
      "Epoch 36/50\n",
      "\u001b[1m549/549\u001b[0m \u001b[32m━━━━━━━━━━━━━━━━━━━━\u001b[0m\u001b[37m\u001b[0m \u001b[1m1s\u001b[0m 2ms/step - loss: 7.5965e-04 - mean_squared_error: 7.5965e-04 - val_loss: 8.2382e-04 - val_mean_squared_error: 8.2382e-04\n",
      "Epoch 37/50\n",
      "\u001b[1m549/549\u001b[0m \u001b[32m━━━━━━━━━━━━━━━━━━━━\u001b[0m\u001b[37m\u001b[0m \u001b[1m1s\u001b[0m 2ms/step - loss: 7.1871e-04 - mean_squared_error: 7.1871e-04 - val_loss: 8.2151e-04 - val_mean_squared_error: 8.2151e-04\n",
      "Epoch 38/50\n",
      "\u001b[1m549/549\u001b[0m \u001b[32m━━━━━━━━━━━━━━━━━━━━\u001b[0m\u001b[37m\u001b[0m \u001b[1m1s\u001b[0m 2ms/step - loss: 7.1711e-04 - mean_squared_error: 7.1711e-04 - val_loss: 8.2422e-04 - val_mean_squared_error: 8.2422e-04\n",
      "Epoch 39/50\n",
      "\u001b[1m549/549\u001b[0m \u001b[32m━━━━━━━━━━━━━━━━━━━━\u001b[0m\u001b[37m\u001b[0m \u001b[1m1s\u001b[0m 2ms/step - loss: 7.2215e-04 - mean_squared_error: 7.2215e-04 - val_loss: 8.2164e-04 - val_mean_squared_error: 8.2164e-04\n",
      "Epoch 40/50\n",
      "\u001b[1m549/549\u001b[0m \u001b[32m━━━━━━━━━━━━━━━━━━━━\u001b[0m\u001b[37m\u001b[0m \u001b[1m1s\u001b[0m 2ms/step - loss: 6.9282e-04 - mean_squared_error: 6.9282e-04 - val_loss: 8.3120e-04 - val_mean_squared_error: 8.3120e-04\n",
      "Epoch 41/50\n",
      "\u001b[1m549/549\u001b[0m \u001b[32m━━━━━━━━━━━━━━━━━━━━\u001b[0m\u001b[37m\u001b[0m \u001b[1m1s\u001b[0m 2ms/step - loss: 7.2265e-04 - mean_squared_error: 7.2265e-04 - val_loss: 8.1937e-04 - val_mean_squared_error: 8.1937e-04\n",
      "Epoch 42/50\n",
      "\u001b[1m549/549\u001b[0m \u001b[32m━━━━━━━━━━━━━━━━━━━━\u001b[0m\u001b[37m\u001b[0m \u001b[1m1s\u001b[0m 2ms/step - loss: 7.1551e-04 - mean_squared_error: 7.1551e-04 - val_loss: 8.2105e-04 - val_mean_squared_error: 8.2105e-04\n",
      "Epoch 43/50\n",
      "\u001b[1m549/549\u001b[0m \u001b[32m━━━━━━━━━━━━━━━━━━━━\u001b[0m\u001b[37m\u001b[0m \u001b[1m1s\u001b[0m 2ms/step - loss: 7.1405e-04 - mean_squared_error: 7.1405e-04 - val_loss: 8.2323e-04 - val_mean_squared_error: 8.2323e-04\n",
      "Epoch 44/50\n",
      "\u001b[1m549/549\u001b[0m \u001b[32m━━━━━━━━━━━━━━━━━━━━\u001b[0m\u001b[37m\u001b[0m \u001b[1m1s\u001b[0m 2ms/step - loss: 6.9164e-04 - mean_squared_error: 6.9164e-04 - val_loss: 8.1885e-04 - val_mean_squared_error: 8.1885e-04\n",
      "Epoch 45/50\n",
      "\u001b[1m549/549\u001b[0m \u001b[32m━━━━━━━━━━━━━━━━━━━━\u001b[0m\u001b[37m\u001b[0m \u001b[1m1s\u001b[0m 2ms/step - loss: 6.9807e-04 - mean_squared_error: 6.9807e-04 - val_loss: 8.4528e-04 - val_mean_squared_error: 8.4528e-04\n",
      "Epoch 46/50\n",
      "\u001b[1m549/549\u001b[0m \u001b[32m━━━━━━━━━━━━━━━━━━━━\u001b[0m\u001b[37m\u001b[0m \u001b[1m1s\u001b[0m 2ms/step - loss: 6.9309e-04 - mean_squared_error: 6.9309e-04 - val_loss: 8.1988e-04 - val_mean_squared_error: 8.1988e-04\n",
      "Epoch 47/50\n",
      "\u001b[1m549/549\u001b[0m \u001b[32m━━━━━━━━━━━━━━━━━━━━\u001b[0m\u001b[37m\u001b[0m \u001b[1m1s\u001b[0m 2ms/step - loss: 6.8114e-04 - mean_squared_error: 6.8114e-04 - val_loss: 8.2036e-04 - val_mean_squared_error: 8.2036e-04\n",
      "Epoch 48/50\n",
      "\u001b[1m549/549\u001b[0m \u001b[32m━━━━━━━━━━━━━━━━━━━━\u001b[0m\u001b[37m\u001b[0m \u001b[1m1s\u001b[0m 2ms/step - loss: 7.1410e-04 - mean_squared_error: 7.1410e-04 - val_loss: 8.2523e-04 - val_mean_squared_error: 8.2523e-04\n",
      "Epoch 49/50\n",
      "\u001b[1m549/549\u001b[0m \u001b[32m━━━━━━━━━━━━━━━━━━━━\u001b[0m\u001b[37m\u001b[0m \u001b[1m1s\u001b[0m 2ms/step - loss: 7.5571e-04 - mean_squared_error: 7.5571e-04 - val_loss: 8.1734e-04 - val_mean_squared_error: 8.1734e-04\n",
      "Epoch 50/50\n",
      "\u001b[1m549/549\u001b[0m \u001b[32m━━━━━━━━━━━━━━━━━━━━\u001b[0m\u001b[37m\u001b[0m \u001b[1m1s\u001b[0m 2ms/step - loss: 6.5831e-04 - mean_squared_error: 6.5831e-04 - val_loss: 8.4558e-04 - val_mean_squared_error: 8.4558e-04\n"
     ]
    },
    {
     "data": {
      "text/plain": [
       "<keras.src.callbacks.history.History at 0x153ef2c50>"
      ]
     },
     "execution_count": 151,
     "metadata": {},
     "output_type": "execute_result"
    }
   ],
   "source": [
    "model1.fit(X_train, y_train, epochs=50, validation_split=0.1, batch_size=32)"
   ]
  },
  {
   "cell_type": "code",
   "execution_count": 156,
   "metadata": {},
   "outputs": [
    {
     "name": "stdout",
     "output_type": "stream",
     "text": [
      "\u001b[1m153/153\u001b[0m \u001b[32m━━━━━━━━━━━━━━━━━━━━\u001b[0m\u001b[37m\u001b[0m \u001b[1m0s\u001b[0m 1ms/step\n"
     ]
    }
   ],
   "source": [
    "yhat1 = model1.predict(X_test)"
   ]
  },
  {
   "cell_type": "code",
   "execution_count": 157,
   "metadata": {},
   "outputs": [
    {
     "name": "stdout",
     "output_type": "stream",
     "text": [
      "\u001b[1m153/153\u001b[0m \u001b[32m━━━━━━━━━━━━━━━━━━━━\u001b[0m\u001b[37m\u001b[0m \u001b[1m0s\u001b[0m 1ms/step\n"
     ]
    },
    {
     "data": {
      "text/plain": [
       "0.0006861756863212038"
      ]
     },
     "execution_count": 157,
     "metadata": {},
     "output_type": "execute_result"
    }
   ],
   "source": [
    "mse = mean_squared_error(y_test, model1.predict(X_test))\n",
    "mse"
   ]
  },
  {
   "cell_type": "code",
   "execution_count": 167,
   "metadata": {},
   "outputs": [
    {
     "data": {
      "text/html": [
       "<div>\n",
       "<style scoped>\n",
       "    .dataframe tbody tr th:only-of-type {\n",
       "        vertical-align: middle;\n",
       "    }\n",
       "\n",
       "    .dataframe tbody tr th {\n",
       "        vertical-align: top;\n",
       "    }\n",
       "\n",
       "    .dataframe thead th {\n",
       "        text-align: right;\n",
       "    }\n",
       "</style>\n",
       "<table border=\"1\" class=\"dataframe\">\n",
       "  <thead>\n",
       "    <tr style=\"text-align: right;\">\n",
       "      <th></th>\n",
       "      <th>y_test</th>\n",
       "      <th>yhat1</th>\n",
       "    </tr>\n",
       "  </thead>\n",
       "  <tbody>\n",
       "    <tr>\n",
       "      <th>23301</th>\n",
       "      <td>0.006330</td>\n",
       "      <td>0.006331</td>\n",
       "    </tr>\n",
       "    <tr>\n",
       "      <th>5561</th>\n",
       "      <td>0.006235</td>\n",
       "      <td>0.008330</td>\n",
       "    </tr>\n",
       "    <tr>\n",
       "      <th>9366</th>\n",
       "      <td>0.006149</td>\n",
       "      <td>0.004456</td>\n",
       "    </tr>\n",
       "    <tr>\n",
       "      <th>18231</th>\n",
       "      <td>0.005749</td>\n",
       "      <td>0.001232</td>\n",
       "    </tr>\n",
       "    <tr>\n",
       "      <th>9798</th>\n",
       "      <td>0.005092</td>\n",
       "      <td>0.000000</td>\n",
       "    </tr>\n",
       "    <tr>\n",
       "      <th>1796</th>\n",
       "      <td>0.004511</td>\n",
       "      <td>0.000000</td>\n",
       "    </tr>\n",
       "    <tr>\n",
       "      <th>3673</th>\n",
       "      <td>0.003508</td>\n",
       "      <td>0.000000</td>\n",
       "    </tr>\n",
       "    <tr>\n",
       "      <th>8757</th>\n",
       "      <td>0.003198</td>\n",
       "      <td>0.000000</td>\n",
       "    </tr>\n",
       "    <tr>\n",
       "      <th>4978</th>\n",
       "      <td>0.003182</td>\n",
       "      <td>0.001821</td>\n",
       "    </tr>\n",
       "    <tr>\n",
       "      <th>15579</th>\n",
       "      <td>0.003057</td>\n",
       "      <td>0.000000</td>\n",
       "    </tr>\n",
       "    <tr>\n",
       "      <th>3745</th>\n",
       "      <td>0.002005</td>\n",
       "      <td>0.000000</td>\n",
       "    </tr>\n",
       "    <tr>\n",
       "      <th>7134</th>\n",
       "      <td>0.002005</td>\n",
       "      <td>0.000000</td>\n",
       "    </tr>\n",
       "    <tr>\n",
       "      <th>3789</th>\n",
       "      <td>0.000601</td>\n",
       "      <td>0.000000</td>\n",
       "    </tr>\n",
       "    <tr>\n",
       "      <th>4336</th>\n",
       "      <td>0.000150</td>\n",
       "      <td>0.000000</td>\n",
       "    </tr>\n",
       "    <tr>\n",
       "      <th>19310</th>\n",
       "      <td>0.000150</td>\n",
       "      <td>0.000000</td>\n",
       "    </tr>\n",
       "  </tbody>\n",
       "</table>\n",
       "</div>"
      ],
      "text/plain": [
       "         y_test     yhat1\n",
       "23301  0.006330  0.006331\n",
       "5561   0.006235  0.008330\n",
       "9366   0.006149  0.004456\n",
       "18231  0.005749  0.001232\n",
       "9798   0.005092  0.000000\n",
       "1796   0.004511  0.000000\n",
       "3673   0.003508  0.000000\n",
       "8757   0.003198  0.000000\n",
       "4978   0.003182  0.001821\n",
       "15579  0.003057  0.000000\n",
       "3745   0.002005  0.000000\n",
       "7134   0.002005  0.000000\n",
       "3789   0.000601  0.000000\n",
       "4336   0.000150  0.000000\n",
       "19310  0.000150  0.000000"
      ]
     },
     "execution_count": 167,
     "metadata": {},
     "output_type": "execute_result"
    }
   ],
   "source": [
    "y_check = pd.DataFrame({'y_test':y_test, 'yhat1':yhat1.flatten()}).sort_values(by='y_test', ascending=False)\n",
    "y_check[-15:]"
   ]
  },
  {
   "cell_type": "code",
   "execution_count": 161,
   "metadata": {},
   "outputs": [
    {
     "data": {
      "text/plain": [
       "[<matplotlib.lines.Line2D at 0x1542e9ba0>]"
      ]
     },
     "execution_count": 161,
     "metadata": {},
     "output_type": "execute_result"
    },
    {
     "data": {
      "image/png": "[encoded data removed]",
      "text/plain": [
       "<Figure size 640x480 with 1 Axes>"
      ]
     },
     "metadata": {},
     "output_type": "display_data"
    }
   ],
   "source": [
    "#Graph for y_test and yhat_test with labels\n",
    "plt.scatter(y_test, yhat1)\n",
    "#draw a line at 45 deg angle\n",
    "plt.plot([0, 1], [0, 1], color = 'black')"
   ]
  },
  {
   "cell_type": "code",
   "execution_count": null,
   "metadata": {},
   "outputs": [],
   "source": []
  },
  {
   "cell_type": "code",
   "execution_count": null,
   "metadata": {},
   "outputs": [],
   "source": []
  }
 ],
 "metadata": {
  "kernelspec": {
   "display_name": "Python 3",
   "language": "python",
   "name": "python3"
  },
  "language_info": {
   "codemirror_mode": {
    "name": "ipython",
    "version": 3
   },
   "file_extension": ".py",
   "mimetype": "text/x-python",
   "name": "python",
   "nbconvert_exporter": "python",
   "pygments_lexer": "ipython3",
   "version": "3.10.1"
  }
 },
 "nbformat": 4,
 "nbformat_minor": 2
}
