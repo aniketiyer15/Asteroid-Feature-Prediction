{
 "cells": [
  {
   "cell_type": "code",
   "execution_count": 1,
   "metadata": {},
   "outputs": [],
   "source": [
    "import seaborn as sns\n",
    "import numpy as np\n",
    "import pandas as pd\n",
    "import matplotlib.pyplot as plt"
   ]
  },
  {
   "cell_type": "code",
   "execution_count": 2,
   "metadata": {},
   "outputs": [
    {
     "data": {
      "text/html": [
       "<div>\n",
       "<style scoped>\n",
       "    .dataframe tbody tr th:only-of-type {\n",
       "        vertical-align: middle;\n",
       "    }\n",
       "\n",
       "    .dataframe tbody tr th {\n",
       "        vertical-align: top;\n",
       "    }\n",
       "\n",
       "    .dataframe thead th {\n",
       "        text-align: right;\n",
       "    }\n",
       "</style>\n",
       "<table border=\"1\" class=\"dataframe\">\n",
       "  <thead>\n",
       "    <tr style=\"text-align: right;\">\n",
       "      <th></th>\n",
       "      <th>a</th>\n",
       "      <th>e</th>\n",
       "      <th>i</th>\n",
       "      <th>om</th>\n",
       "      <th>w</th>\n",
       "      <th>q</th>\n",
       "      <th>ad</th>\n",
       "      <th>per_y</th>\n",
       "      <th>H</th>\n",
       "      <th>pha</th>\n",
       "      <th>diameter</th>\n",
       "      <th>albedo</th>\n",
       "      <th>rot_per</th>\n",
       "      <th>GM</th>\n",
       "      <th>BV</th>\n",
       "      <th>UB</th>\n",
       "      <th>moid</th>\n",
       "      <th>n</th>\n",
       "      <th>per</th>\n",
       "      <th>ma</th>\n",
       "    </tr>\n",
       "  </thead>\n",
       "  <tbody>\n",
       "    <tr>\n",
       "      <th>0</th>\n",
       "      <td>0.354908</td>\n",
       "      <td>0.213852</td>\n",
       "      <td>0.083238</td>\n",
       "      <td>0.393319</td>\n",
       "      <td>0.996385</td>\n",
       "      <td>0.379566</td>\n",
       "      <td>0.229142</td>\n",
       "      <td>0.259400</td>\n",
       "      <td>0.091219</td>\n",
       "      <td>0.0</td>\n",
       "      <td>0.533248</td>\n",
       "      <td>0.270352</td>\n",
       "      <td>0.010200</td>\n",
       "      <td>NaN</td>\n",
       "      <td>0.494970</td>\n",
       "      <td>0.543925</td>\n",
       "      <td>0.256055</td>\n",
       "      <td>0.136087</td>\n",
       "      <td>0.259400</td>\n",
       "      <td>0.784363</td>\n",
       "    </tr>\n",
       "    <tr>\n",
       "      <th>1</th>\n",
       "      <td>0.324537</td>\n",
       "      <td>0.227253</td>\n",
       "      <td>0.229741</td>\n",
       "      <td>0.385161</td>\n",
       "      <td>0.666141</td>\n",
       "      <td>0.350354</td>\n",
       "      <td>0.211422</td>\n",
       "      <td>0.232195</td>\n",
       "      <td>0.013615</td>\n",
       "      <td>0.0</td>\n",
       "      <td>0.926577</td>\n",
       "      <td>0.264221</td>\n",
       "      <td>0.004392</td>\n",
       "      <td>NaN</td>\n",
       "      <td>0.486922</td>\n",
       "      <td>0.521495</td>\n",
       "      <td>0.227563</td>\n",
       "      <td>0.154294</td>\n",
       "      <td>0.232195</td>\n",
       "      <td>0.239430</td>\n",
       "    </tr>\n",
       "    <tr>\n",
       "      <th>2</th>\n",
       "      <td>0.316424</td>\n",
       "      <td>0.258977</td>\n",
       "      <td>0.085688</td>\n",
       "      <td>0.721104</td>\n",
       "      <td>0.403507</td>\n",
       "      <td>0.331006</td>\n",
       "      <td>0.213728</td>\n",
       "      <td>0.225067</td>\n",
       "      <td>0.000000</td>\n",
       "      <td>0.0</td>\n",
       "      <td>1.000000</td>\n",
       "      <td>0.272965</td>\n",
       "      <td>0.004309</td>\n",
       "      <td>NaN</td>\n",
       "      <td>0.553320</td>\n",
       "      <td>0.680374</td>\n",
       "      <td>0.197683</td>\n",
       "      <td>0.159643</td>\n",
       "      <td>0.225067</td>\n",
       "      <td>0.390052</td>\n",
       "    </tr>\n",
       "    <tr>\n",
       "      <th>3</th>\n",
       "      <td>0.279029</td>\n",
       "      <td>0.174932</td>\n",
       "      <td>0.091367</td>\n",
       "      <td>0.308065</td>\n",
       "      <td>0.792483</td>\n",
       "      <td>0.335571</td>\n",
       "      <td>0.167190</td>\n",
       "      <td>0.192983</td>\n",
       "      <td>0.066712</td>\n",
       "      <td>0.0</td>\n",
       "      <td>0.737689</td>\n",
       "      <td>0.222111</td>\n",
       "      <td>0.007799</td>\n",
       "      <td>NaN</td>\n",
       "      <td>0.613682</td>\n",
       "      <td>0.689720</td>\n",
       "      <td>0.204244</td>\n",
       "      <td>0.187472</td>\n",
       "      <td>0.192983</td>\n",
       "      <td>0.541344</td>\n",
       "    </tr>\n",
       "    <tr>\n",
       "      <th>4</th>\n",
       "      <td>0.316486</td>\n",
       "      <td>0.137375</td>\n",
       "      <td>0.086519</td>\n",
       "      <td>0.191436</td>\n",
       "      <td>0.017794</td>\n",
       "      <td>0.381443</td>\n",
       "      <td>0.183041</td>\n",
       "      <td>0.225121</td>\n",
       "      <td>0.052417</td>\n",
       "      <td>0.0</td>\n",
       "      <td>0.950734</td>\n",
       "      <td>0.113568</td>\n",
       "      <td>0.003054</td>\n",
       "      <td>NaN</td>\n",
       "      <td>0.559356</td>\n",
       "      <td>0.702804</td>\n",
       "      <td>0.258631</td>\n",
       "      <td>0.159601</td>\n",
       "      <td>0.225121</td>\n",
       "      <td>0.769072</td>\n",
       "    </tr>\n",
       "    <tr>\n",
       "      <th>...</th>\n",
       "      <td>...</td>\n",
       "      <td>...</td>\n",
       "      <td>...</td>\n",
       "      <td>...</td>\n",
       "      <td>...</td>\n",
       "      <td>...</td>\n",
       "      <td>...</td>\n",
       "      <td>...</td>\n",
       "      <td>...</td>\n",
       "      <td>...</td>\n",
       "      <td>...</td>\n",
       "      <td>...</td>\n",
       "      <td>...</td>\n",
       "      <td>...</td>\n",
       "      <td>...</td>\n",
       "      <td>...</td>\n",
       "      <td>...</td>\n",
       "      <td>...</td>\n",
       "      <td>...</td>\n",
       "      <td>...</td>\n",
       "    </tr>\n",
       "    <tr>\n",
       "      <th>24363</th>\n",
       "      <td>0.308267</td>\n",
       "      <td>0.116138</td>\n",
       "      <td>0.063671</td>\n",
       "      <td>0.716155</td>\n",
       "      <td>0.952911</td>\n",
       "      <td>0.383182</td>\n",
       "      <td>0.172365</td>\n",
       "      <td>0.217959</td>\n",
       "      <td>0.693669</td>\n",
       "      <td>0.0</td>\n",
       "      <td>0.008184</td>\n",
       "      <td>0.355779</td>\n",
       "      <td>NaN</td>\n",
       "      <td>NaN</td>\n",
       "      <td>NaN</td>\n",
       "      <td>NaN</td>\n",
       "      <td>0.254284</td>\n",
       "      <td>0.165251</td>\n",
       "      <td>0.217959</td>\n",
       "      <td>0.477225</td>\n",
       "    </tr>\n",
       "    <tr>\n",
       "      <th>24364</th>\n",
       "      <td>0.313748</td>\n",
       "      <td>0.167089</td>\n",
       "      <td>0.065494</td>\n",
       "      <td>0.034126</td>\n",
       "      <td>0.549054</td>\n",
       "      <td>0.366897</td>\n",
       "      <td>0.188709</td>\n",
       "      <td>0.222728</td>\n",
       "      <td>0.714091</td>\n",
       "      <td>0.0</td>\n",
       "      <td>0.006280</td>\n",
       "      <td>0.418090</td>\n",
       "      <td>NaN</td>\n",
       "      <td>NaN</td>\n",
       "      <td>NaN</td>\n",
       "      <td>NaN</td>\n",
       "      <td>0.236695</td>\n",
       "      <td>0.161456</td>\n",
       "      <td>0.222728</td>\n",
       "      <td>0.370383</td>\n",
       "    </tr>\n",
       "    <tr>\n",
       "      <th>24365</th>\n",
       "      <td>0.376055</td>\n",
       "      <td>0.259840</td>\n",
       "      <td>0.161207</td>\n",
       "      <td>0.826406</td>\n",
       "      <td>0.196702</td>\n",
       "      <td>0.374582</td>\n",
       "      <td>0.256923</td>\n",
       "      <td>0.278815</td>\n",
       "      <td>0.618788</td>\n",
       "      <td>0.0</td>\n",
       "      <td>0.037268</td>\n",
       "      <td>0.038191</td>\n",
       "      <td>NaN</td>\n",
       "      <td>NaN</td>\n",
       "      <td>NaN</td>\n",
       "      <td>NaN</td>\n",
       "      <td>0.252686</td>\n",
       "      <td>0.124890</td>\n",
       "      <td>0.278815</td>\n",
       "      <td>0.165555</td>\n",
       "    </tr>\n",
       "    <tr>\n",
       "      <th>24366</th>\n",
       "      <td>0.364056</td>\n",
       "      <td>0.313769</td>\n",
       "      <td>0.090133</td>\n",
       "      <td>0.169786</td>\n",
       "      <td>0.754505</td>\n",
       "      <td>0.341206</td>\n",
       "      <td>0.263239</td>\n",
       "      <td>0.267752</td>\n",
       "      <td>0.625596</td>\n",
       "      <td>0.0</td>\n",
       "      <td>0.014599</td>\n",
       "      <td>0.267337</td>\n",
       "      <td>NaN</td>\n",
       "      <td>NaN</td>\n",
       "      <td>NaN</td>\n",
       "      <td>NaN</td>\n",
       "      <td>0.206996</td>\n",
       "      <td>0.131107</td>\n",
       "      <td>0.267752</td>\n",
       "      <td>0.399286</td>\n",
       "    </tr>\n",
       "    <tr>\n",
       "      <th>24367</th>\n",
       "      <td>0.295544</td>\n",
       "      <td>0.293079</td>\n",
       "      <td>0.064836</td>\n",
       "      <td>0.665953</td>\n",
       "      <td>0.266768</td>\n",
       "      <td>0.302085</td>\n",
       "      <td>0.206935</td>\n",
       "      <td>0.206994</td>\n",
       "      <td>0.652825</td>\n",
       "      <td>0.0</td>\n",
       "      <td>0.008826</td>\n",
       "      <td>0.244221</td>\n",
       "      <td>NaN</td>\n",
       "      <td>NaN</td>\n",
       "      <td>NaN</td>\n",
       "      <td>NaN</td>\n",
       "      <td>0.159324</td>\n",
       "      <td>0.174491</td>\n",
       "      <td>0.206994</td>\n",
       "      <td>0.360611</td>\n",
       "    </tr>\n",
       "  </tbody>\n",
       "</table>\n",
       "<p>24368 rows × 20 columns</p>\n",
       "</div>"
      ],
      "text/plain": [
       "              a         e         i        om         w         q        ad  \\\n",
       "0      0.354908  0.213852  0.083238  0.393319  0.996385  0.379566  0.229142   \n",
       "1      0.324537  0.227253  0.229741  0.385161  0.666141  0.350354  0.211422   \n",
       "2      0.316424  0.258977  0.085688  0.721104  0.403507  0.331006  0.213728   \n",
       "3      0.279029  0.174932  0.091367  0.308065  0.792483  0.335571  0.167190   \n",
       "4      0.316486  0.137375  0.086519  0.191436  0.017794  0.381443  0.183041   \n",
       "...         ...       ...       ...       ...       ...       ...       ...   \n",
       "24363  0.308267  0.116138  0.063671  0.716155  0.952911  0.383182  0.172365   \n",
       "24364  0.313748  0.167089  0.065494  0.034126  0.549054  0.366897  0.188709   \n",
       "24365  0.376055  0.259840  0.161207  0.826406  0.196702  0.374582  0.256923   \n",
       "24366  0.364056  0.313769  0.090133  0.169786  0.754505  0.341206  0.263239   \n",
       "24367  0.295544  0.293079  0.064836  0.665953  0.266768  0.302085  0.206935   \n",
       "\n",
       "          per_y         H  pha  diameter    albedo   rot_per  GM        BV  \\\n",
       "0      0.259400  0.091219  0.0  0.533248  0.270352  0.010200 NaN  0.494970   \n",
       "1      0.232195  0.013615  0.0  0.926577  0.264221  0.004392 NaN  0.486922   \n",
       "2      0.225067  0.000000  0.0  1.000000  0.272965  0.004309 NaN  0.553320   \n",
       "3      0.192983  0.066712  0.0  0.737689  0.222111  0.007799 NaN  0.613682   \n",
       "4      0.225121  0.052417  0.0  0.950734  0.113568  0.003054 NaN  0.559356   \n",
       "...         ...       ...  ...       ...       ...       ...  ..       ...   \n",
       "24363  0.217959  0.693669  0.0  0.008184  0.355779       NaN NaN       NaN   \n",
       "24364  0.222728  0.714091  0.0  0.006280  0.418090       NaN NaN       NaN   \n",
       "24365  0.278815  0.618788  0.0  0.037268  0.038191       NaN NaN       NaN   \n",
       "24366  0.267752  0.625596  0.0  0.014599  0.267337       NaN NaN       NaN   \n",
       "24367  0.206994  0.652825  0.0  0.008826  0.244221       NaN NaN       NaN   \n",
       "\n",
       "             UB      moid         n       per        ma  \n",
       "0      0.543925  0.256055  0.136087  0.259400  0.784363  \n",
       "1      0.521495  0.227563  0.154294  0.232195  0.239430  \n",
       "2      0.680374  0.197683  0.159643  0.225067  0.390052  \n",
       "3      0.689720  0.204244  0.187472  0.192983  0.541344  \n",
       "4      0.702804  0.258631  0.159601  0.225121  0.769072  \n",
       "...         ...       ...       ...       ...       ...  \n",
       "24363       NaN  0.254284  0.165251  0.217959  0.477225  \n",
       "24364       NaN  0.236695  0.161456  0.222728  0.370383  \n",
       "24365       NaN  0.252686  0.124890  0.278815  0.165555  \n",
       "24366       NaN  0.206996  0.131107  0.267752  0.399286  \n",
       "24367       NaN  0.159324  0.174491  0.206994  0.360611  \n",
       "\n",
       "[24368 rows x 20 columns]"
      ]
     },
     "execution_count": 2,
     "metadata": {},
     "output_type": "execute_result"
    }
   ],
   "source": [
    "data = pd.read_csv('../data/Asteroid_Normalized.csv')\n",
    "data"
   ]
  },
  {
   "cell_type": "code",
   "execution_count": 3,
   "metadata": {},
   "outputs": [
    {
     "data": {
      "text/html": [
       "<div>\n",
       "<style scoped>\n",
       "    .dataframe tbody tr th:only-of-type {\n",
       "        vertical-align: middle;\n",
       "    }\n",
       "\n",
       "    .dataframe tbody tr th {\n",
       "        vertical-align: top;\n",
       "    }\n",
       "\n",
       "    .dataframe thead th {\n",
       "        text-align: right;\n",
       "    }\n",
       "</style>\n",
       "<table border=\"1\" class=\"dataframe\">\n",
       "  <thead>\n",
       "    <tr style=\"text-align: right;\">\n",
       "      <th></th>\n",
       "      <th>q</th>\n",
       "      <th>moid</th>\n",
       "      <th>H</th>\n",
       "      <th>diameter</th>\n",
       "    </tr>\n",
       "  </thead>\n",
       "  <tbody>\n",
       "    <tr>\n",
       "      <th>0</th>\n",
       "      <td>0.379566</td>\n",
       "      <td>0.256055</td>\n",
       "      <td>0.091219</td>\n",
       "      <td>0.533248</td>\n",
       "    </tr>\n",
       "    <tr>\n",
       "      <th>1</th>\n",
       "      <td>0.350354</td>\n",
       "      <td>0.227563</td>\n",
       "      <td>0.013615</td>\n",
       "      <td>0.926577</td>\n",
       "    </tr>\n",
       "    <tr>\n",
       "      <th>2</th>\n",
       "      <td>0.331006</td>\n",
       "      <td>0.197683</td>\n",
       "      <td>0.000000</td>\n",
       "      <td>1.000000</td>\n",
       "    </tr>\n",
       "    <tr>\n",
       "      <th>3</th>\n",
       "      <td>0.335571</td>\n",
       "      <td>0.204244</td>\n",
       "      <td>0.066712</td>\n",
       "      <td>0.737689</td>\n",
       "    </tr>\n",
       "    <tr>\n",
       "      <th>4</th>\n",
       "      <td>0.381443</td>\n",
       "      <td>0.258631</td>\n",
       "      <td>0.052417</td>\n",
       "      <td>0.950734</td>\n",
       "    </tr>\n",
       "    <tr>\n",
       "      <th>...</th>\n",
       "      <td>...</td>\n",
       "      <td>...</td>\n",
       "      <td>...</td>\n",
       "      <td>...</td>\n",
       "    </tr>\n",
       "    <tr>\n",
       "      <th>24363</th>\n",
       "      <td>0.383182</td>\n",
       "      <td>0.254284</td>\n",
       "      <td>0.693669</td>\n",
       "      <td>0.008184</td>\n",
       "    </tr>\n",
       "    <tr>\n",
       "      <th>24364</th>\n",
       "      <td>0.366897</td>\n",
       "      <td>0.236695</td>\n",
       "      <td>0.714091</td>\n",
       "      <td>0.006280</td>\n",
       "    </tr>\n",
       "    <tr>\n",
       "      <th>24365</th>\n",
       "      <td>0.374582</td>\n",
       "      <td>0.252686</td>\n",
       "      <td>0.618788</td>\n",
       "      <td>0.037268</td>\n",
       "    </tr>\n",
       "    <tr>\n",
       "      <th>24366</th>\n",
       "      <td>0.341206</td>\n",
       "      <td>0.206996</td>\n",
       "      <td>0.625596</td>\n",
       "      <td>0.014599</td>\n",
       "    </tr>\n",
       "    <tr>\n",
       "      <th>24367</th>\n",
       "      <td>0.302085</td>\n",
       "      <td>0.159324</td>\n",
       "      <td>0.652825</td>\n",
       "      <td>0.008826</td>\n",
       "    </tr>\n",
       "  </tbody>\n",
       "</table>\n",
       "<p>24368 rows × 4 columns</p>\n",
       "</div>"
      ],
      "text/plain": [
       "              q      moid         H  diameter\n",
       "0      0.379566  0.256055  0.091219  0.533248\n",
       "1      0.350354  0.227563  0.013615  0.926577\n",
       "2      0.331006  0.197683  0.000000  1.000000\n",
       "3      0.335571  0.204244  0.066712  0.737689\n",
       "4      0.381443  0.258631  0.052417  0.950734\n",
       "...         ...       ...       ...       ...\n",
       "24363  0.383182  0.254284  0.693669  0.008184\n",
       "24364  0.366897  0.236695  0.714091  0.006280\n",
       "24365  0.374582  0.252686  0.618788  0.037268\n",
       "24366  0.341206  0.206996  0.625596  0.014599\n",
       "24367  0.302085  0.159324  0.652825  0.008826\n",
       "\n",
       "[24368 rows x 4 columns]"
      ]
     },
     "execution_count": 3,
     "metadata": {},
     "output_type": "execute_result"
    }
   ],
   "source": [
    "sel_data1 = data[['q', 'moid', 'H', 'diameter']]\n",
    "sel_data1 = sel_data1.dropna()\n",
    "\n",
    "sel_data1"
   ]
  },
  {
   "cell_type": "code",
   "execution_count": 4,
   "metadata": {},
   "outputs": [
    {
     "name": "stderr",
     "output_type": "stream",
     "text": [
      "2024-07-22 16:36:49.476729: I tensorflow/core/platform/cpu_feature_guard.cc:210] This TensorFlow binary is optimized to use available CPU instructions in performance-critical operations.\n",
      "To enable the following instructions: AVX2 FMA, in other operations, rebuild TensorFlow with the appropriate compiler flags.\n"
     ]
    }
   ],
   "source": [
    "from keras.models import Sequential\n",
    "from keras.layers import Dense"
   ]
  },
  {
   "cell_type": "code",
   "execution_count": 31,
   "metadata": {},
   "outputs": [],
   "source": [
    "from sklearn.model_selection import train_test_split\n",
    "\n",
    "train_df, test_df = train_test_split(sel_data1, test_size=0.2, random_state=42)\n",
    "\n",
    "X_train = train_df[['moid', 'H']]\n",
    "y_train = train_df['diameter']\n",
    "\n",
    "X_test = test_df[['moid', 'H']]\n",
    "y_test = test_df['diameter']\n"
   ]
  },
  {
   "cell_type": "code",
   "execution_count": 10,
   "metadata": {},
   "outputs": [
    {
     "name": "stderr",
     "output_type": "stream",
     "text": [
      "/Library/Frameworks/Python.framework/Versions/3.10/lib/python3.10/site-packages/keras/src/layers/core/dense.py:87: UserWarning: Do not pass an `input_shape`/`input_dim` argument to a layer. When using Sequential models, prefer using an `Input(shape)` object as the first layer in the model instead.\n",
      "  super().__init__(activity_regularizer=activity_regularizer, **kwargs)\n"
     ]
    }
   ],
   "source": [
    "classifier = Sequential()\n",
    "classifier.add(Dense(units = 16, activation = 'relu', input_dim = 2))\n",
    "classifier.add(Dense(units = 8, activation = 'relu'))\n",
    "classifier.add(Dense(units = 6, activation = 'relu'))\n",
    "classifier.add(Dense(units = 1, activation = 'relu'))"
   ]
  },
  {
   "cell_type": "code",
   "execution_count": 11,
   "metadata": {},
   "outputs": [],
   "source": [
    "classifier.compile(optimizer = 'adam', loss = 'mean_squared_error')"
   ]
  },
  {
   "cell_type": "code",
   "execution_count": 12,
   "metadata": {},
   "outputs": [
    {
     "data": {
      "text/html": [
       "<pre style=\"white-space:pre;overflow-x:auto;line-height:normal;font-family:Menlo,'DejaVu Sans Mono',consolas,'Courier New',monospace\"><span style=\"font-weight: bold\">Model: \"sequential_1\"</span>\n",
       "</pre>\n"
      ],
      "text/plain": [
       "\u001b[1mModel: \"sequential_1\"\u001b[0m\n"
      ]
     },
     "metadata": {},
     "output_type": "display_data"
    },
    {
     "data": {
      "text/html": [
       "<pre style=\"white-space:pre;overflow-x:auto;line-height:normal;font-family:Menlo,'DejaVu Sans Mono',consolas,'Courier New',monospace\">┏━━━━━━━━━━━━━━━━━━━━━━━━━━━━━━━━━┳━━━━━━━━━━━━━━━━━━━━━━━━┳━━━━━━━━━━━━━━━┓\n",
       "┃<span style=\"font-weight: bold\"> Layer (type)                    </span>┃<span style=\"font-weight: bold\"> Output Shape           </span>┃<span style=\"font-weight: bold\">       Param # </span>┃\n",
       "┡━━━━━━━━━━━━━━━━━━━━━━━━━━━━━━━━━╇━━━━━━━━━━━━━━━━━━━━━━━━╇━━━━━━━━━━━━━━━┩\n",
       "│ dense_4 (<span style=\"color: #0087ff; text-decoration-color: #0087ff\">Dense</span>)                 │ (<span style=\"color: #00d7ff; text-decoration-color: #00d7ff\">None</span>, <span style=\"color: #00af00; text-decoration-color: #00af00\">16</span>)             │            <span style=\"color: #00af00; text-decoration-color: #00af00\">48</span> │\n",
       "├─────────────────────────────────┼────────────────────────┼───────────────┤\n",
       "│ dense_5 (<span style=\"color: #0087ff; text-decoration-color: #0087ff\">Dense</span>)                 │ (<span style=\"color: #00d7ff; text-decoration-color: #00d7ff\">None</span>, <span style=\"color: #00af00; text-decoration-color: #00af00\">8</span>)              │           <span style=\"color: #00af00; text-decoration-color: #00af00\">136</span> │\n",
       "├─────────────────────────────────┼────────────────────────┼───────────────┤\n",
       "│ dense_6 (<span style=\"color: #0087ff; text-decoration-color: #0087ff\">Dense</span>)                 │ (<span style=\"color: #00d7ff; text-decoration-color: #00d7ff\">None</span>, <span style=\"color: #00af00; text-decoration-color: #00af00\">6</span>)              │            <span style=\"color: #00af00; text-decoration-color: #00af00\">54</span> │\n",
       "├─────────────────────────────────┼────────────────────────┼───────────────┤\n",
       "│ dense_7 (<span style=\"color: #0087ff; text-decoration-color: #0087ff\">Dense</span>)                 │ (<span style=\"color: #00d7ff; text-decoration-color: #00d7ff\">None</span>, <span style=\"color: #00af00; text-decoration-color: #00af00\">1</span>)              │             <span style=\"color: #00af00; text-decoration-color: #00af00\">7</span> │\n",
       "└─────────────────────────────────┴────────────────────────┴───────────────┘\n",
       "</pre>\n"
      ],
      "text/plain": [
       "┏━━━━━━━━━━━━━━━━━━━━━━━━━━━━━━━━━┳━━━━━━━━━━━━━━━━━━━━━━━━┳━━━━━━━━━━━━━━━┓\n",
       "┃\u001b[1m \u001b[0m\u001b[1mLayer (type)                   \u001b[0m\u001b[1m \u001b[0m┃\u001b[1m \u001b[0m\u001b[1mOutput Shape          \u001b[0m\u001b[1m \u001b[0m┃\u001b[1m \u001b[0m\u001b[1m      Param #\u001b[0m\u001b[1m \u001b[0m┃\n",
       "┡━━━━━━━━━━━━━━━━━━━━━━━━━━━━━━━━━╇━━━━━━━━━━━━━━━━━━━━━━━━╇━━━━━━━━━━━━━━━┩\n",
       "│ dense_4 (\u001b[38;5;33mDense\u001b[0m)                 │ (\u001b[38;5;45mNone\u001b[0m, \u001b[38;5;34m16\u001b[0m)             │            \u001b[38;5;34m48\u001b[0m │\n",
       "├─────────────────────────────────┼────────────────────────┼───────────────┤\n",
       "│ dense_5 (\u001b[38;5;33mDense\u001b[0m)                 │ (\u001b[38;5;45mNone\u001b[0m, \u001b[38;5;34m8\u001b[0m)              │           \u001b[38;5;34m136\u001b[0m │\n",
       "├─────────────────────────────────┼────────────────────────┼───────────────┤\n",
       "│ dense_6 (\u001b[38;5;33mDense\u001b[0m)                 │ (\u001b[38;5;45mNone\u001b[0m, \u001b[38;5;34m6\u001b[0m)              │            \u001b[38;5;34m54\u001b[0m │\n",
       "├─────────────────────────────────┼────────────────────────┼───────────────┤\n",
       "│ dense_7 (\u001b[38;5;33mDense\u001b[0m)                 │ (\u001b[38;5;45mNone\u001b[0m, \u001b[38;5;34m1\u001b[0m)              │             \u001b[38;5;34m7\u001b[0m │\n",
       "└─────────────────────────────────┴────────────────────────┴───────────────┘\n"
      ]
     },
     "metadata": {},
     "output_type": "display_data"
    },
    {
     "data": {
      "text/html": [
       "<pre style=\"white-space:pre;overflow-x:auto;line-height:normal;font-family:Menlo,'DejaVu Sans Mono',consolas,'Courier New',monospace\"><span style=\"font-weight: bold\"> Total params: </span><span style=\"color: #00af00; text-decoration-color: #00af00\">245</span> (980.00 B)\n",
       "</pre>\n"
      ],
      "text/plain": [
       "\u001b[1m Total params: \u001b[0m\u001b[38;5;34m245\u001b[0m (980.00 B)\n"
      ]
     },
     "metadata": {},
     "output_type": "display_data"
    },
    {
     "data": {
      "text/html": [
       "<pre style=\"white-space:pre;overflow-x:auto;line-height:normal;font-family:Menlo,'DejaVu Sans Mono',consolas,'Courier New',monospace\"><span style=\"font-weight: bold\"> Trainable params: </span><span style=\"color: #00af00; text-decoration-color: #00af00\">245</span> (980.00 B)\n",
       "</pre>\n"
      ],
      "text/plain": [
       "\u001b[1m Trainable params: \u001b[0m\u001b[38;5;34m245\u001b[0m (980.00 B)\n"
      ]
     },
     "metadata": {},
     "output_type": "display_data"
    },
    {
     "data": {
      "text/html": [
       "<pre style=\"white-space:pre;overflow-x:auto;line-height:normal;font-family:Menlo,'DejaVu Sans Mono',consolas,'Courier New',monospace\"><span style=\"font-weight: bold\"> Non-trainable params: </span><span style=\"color: #00af00; text-decoration-color: #00af00\">0</span> (0.00 B)\n",
       "</pre>\n"
      ],
      "text/plain": [
       "\u001b[1m Non-trainable params: \u001b[0m\u001b[38;5;34m0\u001b[0m (0.00 B)\n"
      ]
     },
     "metadata": {},
     "output_type": "display_data"
    }
   ],
   "source": [
    "classifier.summary()"
   ]
  },
  {
   "cell_type": "code",
   "execution_count": 21,
   "metadata": {},
   "outputs": [
    {
     "name": "stdout",
     "output_type": "stream",
     "text": [
      "Epoch 1/20\n",
      "\u001b[1m610/610\u001b[0m \u001b[32m━━━━━━━━━━━━━━━━━━━━\u001b[0m\u001b[37m\u001b[0m \u001b[1m1s\u001b[0m 777us/step - loss: 7.8952e-04\n",
      "Epoch 2/20\n",
      "\u001b[1m610/610\u001b[0m \u001b[32m━━━━━━━━━━━━━━━━━━━━\u001b[0m\u001b[37m\u001b[0m \u001b[1m0s\u001b[0m 751us/step - loss: 8.1506e-04\n",
      "Epoch 3/20\n",
      "\u001b[1m610/610\u001b[0m \u001b[32m━━━━━━━━━━━━━━━━━━━━\u001b[0m\u001b[37m\u001b[0m \u001b[1m1s\u001b[0m 903us/step - loss: 7.6488e-04\n",
      "Epoch 4/20\n",
      "\u001b[1m610/610\u001b[0m \u001b[32m━━━━━━━━━━━━━━━━━━━━\u001b[0m\u001b[37m\u001b[0m \u001b[1m1s\u001b[0m 1ms/step - loss: 8.7735e-04\n",
      "Epoch 5/20\n",
      "\u001b[1m610/610\u001b[0m \u001b[32m━━━━━━━━━━━━━━━━━━━━\u001b[0m\u001b[37m\u001b[0m \u001b[1m1s\u001b[0m 1ms/step - loss: 8.1194e-04\n",
      "Epoch 6/20\n",
      "\u001b[1m610/610\u001b[0m \u001b[32m━━━━━━━━━━━━━━━━━━━━\u001b[0m\u001b[37m\u001b[0m \u001b[1m1s\u001b[0m 1ms/step - loss: 8.3100e-04\n",
      "Epoch 7/20\n",
      "\u001b[1m610/610\u001b[0m \u001b[32m━━━━━━━━━━━━━━━━━━━━\u001b[0m\u001b[37m\u001b[0m \u001b[1m1s\u001b[0m 1ms/step - loss: 7.6631e-04\n",
      "Epoch 8/20\n",
      "\u001b[1m610/610\u001b[0m \u001b[32m━━━━━━━━━━━━━━━━━━━━\u001b[0m\u001b[37m\u001b[0m \u001b[1m1s\u001b[0m 833us/step - loss: 7.9036e-04\n",
      "Epoch 9/20\n",
      "\u001b[1m610/610\u001b[0m \u001b[32m━━━━━━━━━━━━━━━━━━━━\u001b[0m\u001b[37m\u001b[0m \u001b[1m1s\u001b[0m 2ms/step - loss: 7.8611e-04\n",
      "Epoch 10/20\n",
      "\u001b[1m610/610\u001b[0m \u001b[32m━━━━━━━━━━━━━━━━━━━━\u001b[0m\u001b[37m\u001b[0m \u001b[1m1s\u001b[0m 1ms/step - loss: 8.3245e-04   \n",
      "Epoch 11/20\n",
      "\u001b[1m610/610\u001b[0m \u001b[32m━━━━━━━━━━━━━━━━━━━━\u001b[0m\u001b[37m\u001b[0m \u001b[1m1s\u001b[0m 919us/step - loss: 8.0485e-04\n",
      "Epoch 12/20\n",
      "\u001b[1m610/610\u001b[0m \u001b[32m━━━━━━━━━━━━━━━━━━━━\u001b[0m\u001b[37m\u001b[0m \u001b[1m1s\u001b[0m 871us/step - loss: 7.7473e-04\n",
      "Epoch 13/20\n",
      "\u001b[1m610/610\u001b[0m \u001b[32m━━━━━━━━━━━━━━━━━━━━\u001b[0m\u001b[37m\u001b[0m \u001b[1m1s\u001b[0m 877us/step - loss: 8.0371e-04\n",
      "Epoch 14/20\n",
      "\u001b[1m610/610\u001b[0m \u001b[32m━━━━━━━━━━━━━━━━━━━━\u001b[0m\u001b[37m\u001b[0m \u001b[1m1s\u001b[0m 978us/step - loss: 8.0861e-04\n",
      "Epoch 15/20\n",
      "\u001b[1m610/610\u001b[0m \u001b[32m━━━━━━━━━━━━━━━━━━━━\u001b[0m\u001b[37m\u001b[0m \u001b[1m1s\u001b[0m 861us/step - loss: 8.1245e-04\n",
      "Epoch 16/20\n",
      "\u001b[1m610/610\u001b[0m \u001b[32m━━━━━━━━━━━━━━━━━━━━\u001b[0m\u001b[37m\u001b[0m \u001b[1m1s\u001b[0m 846us/step - loss: 8.6438e-04\n",
      "Epoch 17/20\n",
      "\u001b[1m610/610\u001b[0m \u001b[32m━━━━━━━━━━━━━━━━━━━━\u001b[0m\u001b[37m\u001b[0m \u001b[1m1s\u001b[0m 846us/step - loss: 8.2103e-04\n",
      "Epoch 18/20\n",
      "\u001b[1m610/610\u001b[0m \u001b[32m━━━━━━━━━━━━━━━━━━━━\u001b[0m\u001b[37m\u001b[0m \u001b[1m1s\u001b[0m 848us/step - loss: 7.7250e-04\n",
      "Epoch 19/20\n",
      "\u001b[1m610/610\u001b[0m \u001b[32m━━━━━━━━━━━━━━━━━━━━\u001b[0m\u001b[37m\u001b[0m \u001b[1m1s\u001b[0m 839us/step - loss: 8.4689e-04\n",
      "Epoch 20/20\n",
      "\u001b[1m610/610\u001b[0m \u001b[32m━━━━━━━━━━━━━━━━━━━━\u001b[0m\u001b[37m\u001b[0m \u001b[1m1s\u001b[0m 800us/step - loss: 8.1320e-04\n"
     ]
    }
   ],
   "source": [
    "history = classifier.fit(train_df.astype(float).drop(columns = ['diameter', 'q']), train_df.astype(float)['diameter'], batch_size = 32, epochs = 20)"
   ]
  },
  {
   "cell_type": "code",
   "execution_count": 22,
   "metadata": {},
   "outputs": [
    {
     "name": "stdout",
     "output_type": "stream",
     "text": [
      "\u001b[1m153/153\u001b[0m \u001b[32m━━━━━━━━━━━━━━━━━━━━\u001b[0m\u001b[37m\u001b[0m \u001b[1m0s\u001b[0m 791us/step\n"
     ]
    },
    {
     "data": {
      "text/plain": [
       "array([[0.04889091],\n",
       "       [0.05136948],\n",
       "       [0.04122645],\n",
       "       ...,\n",
       "       [0.021375  ],\n",
       "       [0.04441347],\n",
       "       [0.02383946]], dtype=float32)"
      ]
     },
     "execution_count": 22,
     "metadata": {},
     "output_type": "execute_result"
    }
   ],
   "source": [
    "yhat_test = classifier.predict(test_df.drop(columns = ['diameter', 'q']))\n",
    "yhat_test"
   ]
  },
  {
   "cell_type": "code",
   "execution_count": 23,
   "metadata": {},
   "outputs": [
    {
     "data": {
      "text/plain": [
       "8648     0.031905\n",
       "21091    0.042926\n",
       "5953     0.088167\n",
       "17805    0.012179\n",
       "3503     0.047271\n",
       "           ...   \n",
       "8195     0.020358\n",
       "7107     0.017120\n",
       "9129     0.015907\n",
       "13829    0.027199\n",
       "18391    0.015326\n",
       "Name: diameter, Length: 4874, dtype: float64"
      ]
     },
     "execution_count": 23,
     "metadata": {},
     "output_type": "execute_result"
    }
   ],
   "source": [
    "y_test = test_df['diameter'].astype(float)\n",
    "y_test"
   ]
  },
  {
   "cell_type": "code",
   "execution_count": 24,
   "metadata": {},
   "outputs": [
    {
     "name": "stdout",
     "output_type": "stream",
     "text": [
      "Neural-MSE 0.0007568662286308027\n"
     ]
    }
   ],
   "source": [
    "from sklearn.metrics import mean_squared_error\n",
    "\n",
    "mse = mean_squared_error(y_test, yhat_test)\n",
    "print(\"Neural-MSE\",mse)"
   ]
  },
  {
   "cell_type": "code",
   "execution_count": 20,
   "metadata": {},
   "outputs": [
    {
     "data": {
      "text/plain": [
       "[<matplotlib.lines.Line2D at 0x144aaddb0>]"
      ]
     },
     "execution_count": 20,
     "metadata": {},
     "output_type": "execute_result"
    },
    {
     "data": {
      "image/png": "[encoded data removed]",
      "text/plain": [
       "<Figure size 640x480 with 1 Axes>"
      ]
     },
     "metadata": {},
     "output_type": "display_data"
    }
   ],
   "source": [
    "#Graph for y_test and yhat_test with labels\n",
    "plt.scatter(y_test, yhat_test)\n",
    "#draw a line at 45 deg angle\n",
    "plt.plot([0, 1], [0, 1], color = 'black')"
   ]
  },
  {
   "cell_type": "code",
   "execution_count": 43,
   "metadata": {},
   "outputs": [],
   "source": [
    "from keras.models import Sequential\n",
    "from keras.layers import Dense, Input\n",
    "from keras.optimizers import SGD\n",
    "import keras_tuner as kt\n",
    "from scikeras.wrappers import KerasRegressor\n",
    "from sklearn.model_selection import cross_val_score\n",
    "from sklearn.model_selection import RepeatedKFold\n",
    "from keras.optimizers import Adam"
   ]
  },
  {
   "cell_type": "code",
   "execution_count": 83,
   "metadata": {},
   "outputs": [],
   "source": [
    "def build_model(hp):\n",
    "    model = Sequential()\n",
    "    model.add(Input(shape=(2,)))\n",
    "    for i in range(hp.Int(\"num_layers\", 1, 5)):\n",
    "        model.add(Dense(units=hp.Int(f'units_{i}', min_value=10, max_value=30, step=10),\n",
    "                        activation=hp.Choice(\"activation\", [\"relu\"]),))\n",
    "\n",
    "    model.add(Dense(1, activation='relu'))\n",
    "    optimizer = Adam(learning_rate=hp.Choice('learning_rate', values=[1e-2, 1e-3, 1e-4]))\n",
    "    model.compile(optimizer=optimizer, loss='mean_squared_error', metrics=['mean_squared_error'])\n",
    "    return model"
   ]
  },
  {
   "cell_type": "code",
   "execution_count": 84,
   "metadata": {},
   "outputs": [],
   "source": [
    "tuner = kt.RandomSearch(\n",
    "    build_model,\n",
    "    objective='val_mean_squared_error',\n",
    "    max_trials=10,\n",
    "    executions_per_trial=1,\n",
    "    directory='my_dir',\n",
    "    overwrite=True,\n",
    "    project_name='asteroid'\n",
    ")"
   ]
  },
  {
   "cell_type": "code",
   "execution_count": 85,
   "metadata": {},
   "outputs": [
    {
     "name": "stdout",
     "output_type": "stream",
     "text": [
      "Search space summary\n",
      "Default search space size: 4\n",
      "num_layers (Int)\n",
      "{'default': None, 'conditions': [], 'min_value': 1, 'max_value': 5, 'step': 1, 'sampling': 'linear'}\n",
      "units_0 (Int)\n",
      "{'default': None, 'conditions': [], 'min_value': 10, 'max_value': 30, 'step': 10, 'sampling': 'linear'}\n",
      "activation (Choice)\n",
      "{'default': 'relu', 'conditions': [], 'values': ['relu'], 'ordered': False}\n",
      "learning_rate (Choice)\n",
      "{'default': 0.01, 'conditions': [], 'values': [0.01, 0.001, 0.0001], 'ordered': True}\n"
     ]
    }
   ],
   "source": [
    "tuner.search_space_summary()"
   ]
  },
  {
   "cell_type": "code",
   "execution_count": 86,
   "metadata": {},
   "outputs": [
    {
     "name": "stdout",
     "output_type": "stream",
     "text": [
      "Trial 10 Complete [00h 01m 13s]\n",
      "val_mean_squared_error: 0.0008274952997453511\n",
      "\n",
      "Best val_mean_squared_error So Far: 0.0008040877291932702\n",
      "Total elapsed time: 00h 11m 02s\n"
     ]
    }
   ],
   "source": [
    "tuner.search(X_train, y_train, epochs=100, validation_split=0.1, batch_size=32)"
   ]
  },
  {
   "cell_type": "code",
   "execution_count": null,
   "metadata": {},
   "outputs": [],
   "source": []
  },
  {
   "cell_type": "code",
   "execution_count": null,
   "metadata": {},
   "outputs": [],
   "source": []
  }
 ],
 "metadata": {
  "kernelspec": {
   "display_name": "Python 3",
   "language": "python",
   "name": "python3"
  },
  "language_info": {
   "codemirror_mode": {
    "name": "ipython",
    "version": 3
   },
   "file_extension": ".py",
   "mimetype": "text/x-python",
   "name": "python",
   "nbconvert_exporter": "python",
   "pygments_lexer": "ipython3",
   "version": "3.10.1"
  }
 },
 "nbformat": 4,
 "nbformat_minor": 2
}
